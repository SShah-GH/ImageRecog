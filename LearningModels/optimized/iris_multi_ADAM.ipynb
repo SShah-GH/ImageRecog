{
 "metadata": {
  "language_info": {
   "codemirror_mode": {
    "name": "ipython",
    "version": 3
   },
   "file_extension": ".py",
   "mimetype": "text/x-python",
   "name": "python",
   "nbconvert_exporter": "python",
   "pygments_lexer": "ipython3",
   "version": "3.8.5-final"
  },
  "orig_nbformat": 2,
  "kernelspec": {
   "name": "python3",
   "display_name": "Python 3",
   "language": "python"
  }
 },
 "nbformat": 4,
 "nbformat_minor": 2,
 "cells": [
  {
   "cell_type": "code",
   "execution_count": 501,
   "metadata": {},
   "outputs": [],
   "source": [
    "# Import needed libraries\n",
    "import pandas as pd\n",
    "import numpy as np\n",
    "import matplotlib.pyplot as plt"
   ]
  },
  {
   "cell_type": "code",
   "execution_count": 502,
   "metadata": {},
   "outputs": [],
   "source": [
    "#Defines Global Variables data entries\n",
    "TOTAL_DATA = 150\n",
    "\n",
    "# Splits data into training(80%) and testing(20%)\n",
    "TRAINING_DATA = int(TOTAL_DATA*0.8) \n",
    "TESTING_DATA = int(TOTAL_DATA*0.2)\n",
    "\n",
    "# Number of input features\n",
    "FEATURE_NUMBER = 4\n",
    "\n",
    "# Number of classes and respective indexing\n",
    "CLASS_NUMBER = 3\n",
    "CLASSNAMES = ['Iris-setosa', 'Iris-versicolor', 'Iris-virginica']"
   ]
  },
  {
   "cell_type": "code",
   "execution_count": 503,
   "metadata": {},
   "outputs": [
    {
     "output_type": "execute_result",
     "data": {
      "text/plain": [
       "      Id  SepalLengthCm  SepalWidthCm  PetalLengthCm  PetalWidthCm  \\\n",
       "100  101            6.3           3.3            6.0           2.5   \n",
       "13    14            4.3           3.0            1.1           0.1   \n",
       "57    58            4.9           2.4            3.3           1.0   \n",
       "34    35            4.9           3.1            1.5           0.1   \n",
       "142  143            5.8           2.7            5.1           1.9   \n",
       "\n",
       "             Species  \n",
       "100   Iris-virginica  \n",
       "13       Iris-setosa  \n",
       "57   Iris-versicolor  \n",
       "34       Iris-setosa  \n",
       "142   Iris-virginica  "
      ],
      "text/html": "<div>\n<style scoped>\n    .dataframe tbody tr th:only-of-type {\n        vertical-align: middle;\n    }\n\n    .dataframe tbody tr th {\n        vertical-align: top;\n    }\n\n    .dataframe thead th {\n        text-align: right;\n    }\n</style>\n<table border=\"1\" class=\"dataframe\">\n  <thead>\n    <tr style=\"text-align: right;\">\n      <th></th>\n      <th>Id</th>\n      <th>SepalLengthCm</th>\n      <th>SepalWidthCm</th>\n      <th>PetalLengthCm</th>\n      <th>PetalWidthCm</th>\n      <th>Species</th>\n    </tr>\n  </thead>\n  <tbody>\n    <tr>\n      <th>100</th>\n      <td>101</td>\n      <td>6.3</td>\n      <td>3.3</td>\n      <td>6.0</td>\n      <td>2.5</td>\n      <td>Iris-virginica</td>\n    </tr>\n    <tr>\n      <th>13</th>\n      <td>14</td>\n      <td>4.3</td>\n      <td>3.0</td>\n      <td>1.1</td>\n      <td>0.1</td>\n      <td>Iris-setosa</td>\n    </tr>\n    <tr>\n      <th>57</th>\n      <td>58</td>\n      <td>4.9</td>\n      <td>2.4</td>\n      <td>3.3</td>\n      <td>1.0</td>\n      <td>Iris-versicolor</td>\n    </tr>\n    <tr>\n      <th>34</th>\n      <td>35</td>\n      <td>4.9</td>\n      <td>3.1</td>\n      <td>1.5</td>\n      <td>0.1</td>\n      <td>Iris-setosa</td>\n    </tr>\n    <tr>\n      <th>142</th>\n      <td>143</td>\n      <td>5.8</td>\n      <td>2.7</td>\n      <td>5.1</td>\n      <td>1.9</td>\n      <td>Iris-virginica</td>\n    </tr>\n  </tbody>\n</table>\n</div>"
     },
     "metadata": {},
     "execution_count": 503
    }
   ],
   "source": [
    "# Read in data\n",
    "data = pd.read_csv('../../DataSets/Iris.csv')\n",
    "\n",
    "#Splits into 2 classes instead of 3\n",
    "#data = data[0:100]\n",
    "\n",
    "# Shuffle data\n",
    "data = data.sample(frac = 1)\n",
    "\n",
    "data.head()"
   ]
  },
  {
   "cell_type": "code",
   "execution_count": 504,
   "metadata": {},
   "outputs": [],
   "source": [
    "# Pulling feature data and splicing it for training/testing using 80-20 ratio\n",
    "x_train = data.iloc[:TRAINING_DATA, 1:FEATURE_NUMBER+1].values\n",
    "x_test = data.iloc[TRAINING_DATA:, 1:FEATURE_NUMBER+1].values\n",
    "\n",
    "# Standardizes the data by dividing the entries by standard deviation (i.e calculating how many standard deviations the entries are from the center)\n",
    "x_train = (x_train - np.mean(x_train, axis=0)) / np.std(x_train, axis=0)\n",
    "x_test = (x_test - np.mean(x_test, axis=0)) / np.std(x_test, axis=0)\n",
    "\n",
    "# Reshape for matrix multiplication\n",
    "x_train = x_train.reshape(FEATURE_NUMBER, TRAINING_DATA)\n",
    "x_test = x_test.reshape(FEATURE_NUMBER, TESTING_DATA)\n"
   ]
  },
  {
   "cell_type": "code",
   "execution_count": 505,
   "metadata": {},
   "outputs": [],
   "source": [
    "# Pulling label data and splicing it for training/testing using 80-20 ratio\n",
    "y_train_data = data.iloc[:TRAINING_DATA, -1].values\n",
    "y_test_data = data.iloc[TRAINING_DATA:, -1].values\n",
    "\n",
    "# Create vectorized representations of each data point's class membership\n",
    "y_train = np.zeros(shape=(CLASS_NUMBER, TRAINING_DATA))\n",
    "y_test = np.zeros(shape=(CLASS_NUMBER, TESTING_DATA))\n",
    "\n",
    "# Setting numeric labels for each data point's class\n",
    "for row in range(CLASS_NUMBER):\n",
    "    y_train[row, :TRAINING_DATA]  = [ele == CLASSNAMES[row] for ele in y_train_data]\n",
    "    y_test[row, :TESTING_DATA] = [ele == CLASSNAMES[row] for ele in y_test_data]"
   ]
  },
  {
   "cell_type": "code",
   "execution_count": 506,
   "metadata": {},
   "outputs": [],
   "source": [
    "# Randomly initialize weights and bias matricies\n",
    "w = np.random.rand(CLASS_NUMBER, FEATURE_NUMBER)\n",
    "b = np.random.rand(CLASS_NUMBER, 1)\n"
   ]
  },
  {
   "cell_type": "code",
   "execution_count": 507,
   "metadata": {},
   "outputs": [
    {
     "output_type": "stream",
     "name": "stdout",
     "text": [
      "[[ 0.19928669  0.50188731 -1.6716688  -0.07053997 -1.1237329  -2.25997346\n  -0.34985362  0.1010631   0.06194923 -0.92529923 -0.00444737  2.94516921\n  -1.76025126 -0.82367028 -1.26503662 -1.18535535 -0.34133552  1.70385061\n  -1.29640775 -1.78369681  1.07732109  1.00397776  1.01562939 -0.27767618\n   2.89827658  1.2938168   1.39914747  1.24240153 -0.02485347 -0.90485316]\n [-0.47908059  0.16405949  0.33004047  0.41732132  1.06146832  0.65646645\n   1.03401947  0.84632951  0.57360197  0.2199934  -0.18632177  0.93822485\n  -0.33350754  0.01260624  0.73371593  0.38618236  0.3515217   1.69826364\n   0.12397023 -0.14447233  0.77819096  1.48694358  0.41288409 -0.46918711\n   2.00655607  0.95220032  1.36969761  1.19352019  1.03758256  0.46385613]\n [-0.995183   -0.16800935  0.27585581  0.77863235  1.08523401  0.83943946\n   0.89650846  0.59751589  0.66257209  0.61304256 -0.89613118  1.32943921\n  -0.93322504 -0.74594345  0.96377551  0.55540873  0.31620861  1.94101723\n   0.0543584  -0.47775432  0.36585557  1.65285841  0.13145724 -1.3093158\n   2.24569661  1.13794803  1.20737796  0.93605751  1.50594319  0.78089016]]\n"
     ]
    }
   ],
   "source": [
    "#Class coresspondance function, returns a vector (z), which will be input into softmax function\n",
    "#The highest number in z represents the correct class\n",
    "def class_corr(weights, bias, x):\n",
    "    \n",
    "    numData = x.shape[1]\n",
    "    #print(numData)\n",
    "    z = weights.dot(x)\n",
    "    #print(z)\n",
    "    for input in range(numData):\n",
    "        z[0:CLASS_NUMBER, input:input+1] += bias\n",
    "\n",
    "    return z\n",
    "\n",
    "z = class_corr(w, b, x_test)\n",
    "print(z)\n"
   ]
  },
  {
   "cell_type": "code",
   "execution_count": 508,
   "metadata": {},
   "outputs": [
    {
     "output_type": "stream",
     "name": "stdout",
     "text": [
      "[[0.55239178 0.44942213 0.06488027 0.20134741 0.05263507 0.02400366\n  0.11809171 0.21053137 0.22265269 0.11363349 0.44569816 0.75010637\n  0.13419895 0.22786386 0.05659736 0.08683764 0.2028617  0.30655279\n  0.11112264 0.10160186 0.44795098 0.22054255 0.5101096  0.45826728\n  0.51796015 0.38966725 0.35759283 0.37196466 0.11743611 0.09683602]\n [0.28030835 0.32058094 0.48022406 0.32796049 0.46805404 0.44347707\n  0.47122449 0.44359016 0.37139488 0.35719107 0.37158125 0.10081334\n  0.55895395 0.52585465 0.41767968 0.41804033 0.40560577 0.30484486\n  0.45990153 0.52336877 0.33213904 0.3574718  0.27918658 0.37839615\n  0.21233767 0.27690561 0.34721533 0.35421976 0.33979092 0.38059217]\n [0.16729987 0.22999693 0.45489568 0.4706921  0.4793109  0.53251928\n  0.4106838  0.34587847 0.40595243 0.52917544 0.18272059 0.14908029\n  0.3068471  0.24628149 0.52572297 0.49512203 0.39153253 0.38860235\n  0.42897583 0.37502937 0.21990998 0.42198565 0.21070382 0.16333658\n  0.26970219 0.33342715 0.29519185 0.27381558 0.54277297 0.52257181]]\n"
     ]
    }
   ],
   "source": [
    "#Softmax Function\n",
    "#expnentiates all elements of the z vector and divides by their sum to see class probability\n",
    "def softmax(z):\n",
    "\n",
    "    #creates empty probability array\n",
    "    y_hat = np.empty([z.shape[0], z.shape[1]])\n",
    "    numData = z.shape[1]\n",
    "\n",
    "    #exponentiates the matrix\n",
    "    z_exp = np.exp(z)\n",
    "\n",
    "    #Converts z vector into probability distribution\n",
    "    for input in range(numData):\n",
    "        z_sum = np.sum(z_exp[0:CLASS_NUMBER, input:input+1])\n",
    "        y_hat[0:CLASS_NUMBER, input:input+1] = z_exp[0:CLASS_NUMBER, input:input+1]/z_sum\n",
    "    return y_hat\n",
    "\n",
    "\n",
    "y_pred = softmax(z)\n",
    "print(softmax(z))\n"
   ]
  },
  {
   "cell_type": "code",
   "execution_count": 509,
   "metadata": {},
   "outputs": [
    {
     "output_type": "execute_result",
     "data": {
      "text/plain": [
       "1.2195564957998206"
      ]
     },
     "metadata": {},
     "execution_count": 509
    }
   ],
   "source": [
    "#Loss function\n",
    "#Returns the sum of all probabilities compared to the actual class\n",
    "def cost(y, y_pred):\n",
    "\n",
    "    total_loss = 0\n",
    "\n",
    "    #Finds number of data samples\n",
    "    numData = y.shape[1]\n",
    "\n",
    "    #Manipulates y_pred into right form for the loss function\n",
    "    y_pred = -1*np.log(y_pred)\n",
    "\n",
    "    #iterates over all data samples\n",
    "    for column in range(numData):\n",
    "\n",
    "        #Computes total class loss for each data sample and sums them\n",
    "        y_cur = y[0:CLASS_NUMBER, column:column+1].transpose()\n",
    "        y_pred_cur = (y_pred[0:CLASS_NUMBER, column:column+1])\n",
    "        total_loss += y_cur.dot(y_pred_cur)[0][0]\n",
    "\n",
    "    #Divdes by number of data samples to find average error\n",
    "    total_loss = total_loss/numData\n",
    "    return total_loss\n",
    "    \n",
    "    \n",
    "\n",
    "        \n",
    "\n",
    "\n",
    "\n",
    "cost(y_test, y_pred)"
   ]
  },
  {
   "cell_type": "code",
   "execution_count": 510,
   "metadata": {},
   "outputs": [
    {
     "output_type": "execute_result",
     "data": {
      "text/plain": [
       "{'gradWeights': array([[ 0.14197647, -0.06694153, -0.07503495],\n",
       "        [ 0.11348441, -0.05326188, -0.06022253],\n",
       "        [ 0.06460188,  0.04683796, -0.11143984],\n",
       "        [-0.11824997, -0.03206977,  0.15031975]]),\n",
       " 'gradBias': array([[-0.00262139, -0.02303651,  0.0256579 ]])}"
      ]
     },
     "metadata": {},
     "execution_count": 510
    }
   ],
   "source": [
    "# Take the gradients of the loss with respect to weights and bias\n",
    "def findGradients(x, y, y_pred):\n",
    "    # Number of data samples\n",
    "    numData = x.shape[1]\n",
    "\n",
    "    # Calculate error for gradient computations\n",
    "    error = y_pred - y\n",
    "    error = error.transpose()\n",
    "    \n",
    "\n",
    "    # Dictionary for holding gradient values\n",
    "    gradientDict = dict()\n",
    "    gradientDict['gradWeights'] = np.array((1/numData) * x.dot(error))\n",
    "    gradientDict['gradBias'] =  ((1/numData) * error.sum(axis=0)).reshape(1, CLASS_NUMBER)\n",
    "    \n",
    "    return gradientDict\n",
    "\n",
    "y_pred = softmax(z)\n",
    "findGradients(x_test, y_test, y_pred)"
   ]
  },
  {
   "cell_type": "code",
   "execution_count": 511,
   "metadata": {},
   "outputs": [],
   "source": [
    "# Repetitively perform gradient descent to improve model \n",
    "def gradientDescent(x, y, weights, bias, losses, max_iter, learning_rate, coeff_momentum, coeff_RMS):\n",
    "\n",
    "    momentum_grad_weights = np.zeros(shape=(FEATURE_NUMBER, CLASS_NUMBER))\n",
    "    momentum_grad_bias = np.zeros(shape=(1, CLASS_NUMBER))\n",
    "    \n",
    "    momentum_grad_weights = 0\n",
    "    momentum_grad_bias = 0\n",
    "\n",
    "    RMS_grad_weights = 0\n",
    "    RMS_grad_bias = 0\n",
    "\n",
    "\n",
    "    for i in range(max_iter): \n",
    "        z = class_corr(weights, bias, x)\n",
    "        #print(z.shape)\n",
    "        y_pred = softmax(z)\n",
    "        gradients = findGradients(x, y, y_pred)\n",
    "\n",
    "        #Calculates Momentum\n",
    "        momentum_grad_weights = coeff_momentum * momentum_grad_weights + (1-coeff_momentum) * gradients[\"gradWeights\"]\n",
    "        momentum_grad_bias = coeff_momentum * momentum_grad_bias + (1-coeff_momentum) * gradients[\"gradBias\"]\n",
    "        \n",
    "        #Calculates Momentum using RMS prop algorithm\n",
    "        RMS_grad_weights = coeff_RMS * RMS_grad_weights + (1-coeff_RMS) * np.square(gradients[\"gradWeights\"])\n",
    "        RMS_grad_bias = coeff_RMS * RMS_grad_bias + (1-coeff_RMS) * np.square(gradients[\"gradBias\"])\n",
    "\n",
    "        #Corrects RMS and Momentum values to update weights and biases\n",
    "        momentum_grad_weights_corrected = (momentum_grad_weights / (1+pow(coeff_momentum,  i))).transpose()\n",
    "        momentum_grad_bias_corrected = (momentum_grad_bias / (1+pow(coeff_momentum,  i))).transpose()\n",
    "\n",
    "        RMS_grad_weights_corrected = (RMS_grad_weights / (1+pow(coeff_momentum,  i))).transpose()\n",
    "        RMS_grad_bias_corrected = (RMS_grad_bias / (1+pow(coeff_momentum,  i))).transpose()\n",
    "\n",
    "\n",
    "\n",
    "        # Compute gradient descent\n",
    "        weights = weights - np.divide((learning_rate * momentum_grad_weights_corrected), (RMS_grad_weights_corrected ** 0.5))  \n",
    "        bias = bias - np.divide((learning_rate * momentum_grad_bias_corrected), (RMS_grad_bias_corrected ** 0.5)) \n",
    "\n",
    "        # Not required - meant to visualize model's performance\n",
    "        loss = cost(y, y_pred)\n",
    "        losses.append(loss)\n",
    "\n",
    "        learning_rate *= 0.95\n",
    "\n",
    "    return weights, bias\n"
   ]
  },
  {
   "cell_type": "code",
   "execution_count": 512,
   "metadata": {},
   "outputs": [],
   "source": [
    "# List for storing log loss over time\n",
    "losses = []\n",
    "\n",
    "w, b = gradientDescent(x_train, y_train, w, b, losses, max_iter=50, learning_rate=0.1, coeff_momentum=0.9, coeff_RMS=0.9)\n",
    "\n",
    "#print(w)\n",
    "#print(b)"
   ]
  },
  {
   "cell_type": "code",
   "execution_count": 513,
   "metadata": {},
   "outputs": [
    {
     "output_type": "execute_result",
     "data": {
      "text/plain": [
       "[<matplotlib.lines.Line2D at 0x22edf71caf0>]"
      ]
     },
     "metadata": {},
     "execution_count": 513
    },
    {
     "output_type": "display_data",
     "data": {
      "text/plain": "<Figure size 432x288 with 1 Axes>",
      "image/svg+xml": "<?xml version=\"1.0\" encoding=\"utf-8\" standalone=\"no\"?>\r\n<!DOCTYPE svg PUBLIC \"-//W3C//DTD SVG 1.1//EN\"\r\n  \"http://www.w3.org/Graphics/SVG/1.1/DTD/svg11.dtd\">\r\n<!-- Created with matplotlib (https://matplotlib.org/) -->\r\n<svg height=\"248.518125pt\" version=\"1.1\" viewBox=\"0 0 378.465625 248.518125\" width=\"378.465625pt\" xmlns=\"http://www.w3.org/2000/svg\" xmlns:xlink=\"http://www.w3.org/1999/xlink\">\r\n <metadata>\r\n  <rdf:RDF xmlns:cc=\"http://creativecommons.org/ns#\" xmlns:dc=\"http://purl.org/dc/elements/1.1/\" xmlns:rdf=\"http://www.w3.org/1999/02/22-rdf-syntax-ns#\">\r\n   <cc:Work>\r\n    <dc:type rdf:resource=\"http://purl.org/dc/dcmitype/StillImage\"/>\r\n    <dc:date>2021-01-03T21:55:47.467244</dc:date>\r\n    <dc:format>image/svg+xml</dc:format>\r\n    <dc:creator>\r\n     <cc:Agent>\r\n      <dc:title>Matplotlib v3.3.2, https://matplotlib.org/</dc:title>\r\n     </cc:Agent>\r\n    </dc:creator>\r\n   </cc:Work>\r\n  </rdf:RDF>\r\n </metadata>\r\n <defs>\r\n  <style type=\"text/css\">*{stroke-linecap:butt;stroke-linejoin:round;}</style>\r\n </defs>\r\n <g id=\"figure_1\">\r\n  <g id=\"patch_1\">\r\n   <path d=\"M 0 248.518125 \r\nL 378.465625 248.518125 \r\nL 378.465625 0 \r\nL 0 0 \r\nz\r\n\" style=\"fill:none;\"/>\r\n  </g>\r\n  <g id=\"axes_1\">\r\n   <g id=\"patch_2\">\r\n    <path d=\"M 36.465625 224.64 \r\nL 371.265625 224.64 \r\nL 371.265625 7.2 \r\nL 36.465625 7.2 \r\nz\r\n\" style=\"fill:#ffffff;\"/>\r\n   </g>\r\n   <g id=\"matplotlib.axis_1\">\r\n    <g id=\"xtick_1\">\r\n     <g id=\"line2d_1\">\r\n      <defs>\r\n       <path d=\"M 0 0 \r\nL 0 3.5 \r\n\" id=\"mc7822602a2\" style=\"stroke:#000000;stroke-width:0.8;\"/>\r\n      </defs>\r\n      <g>\r\n       <use style=\"stroke:#000000;stroke-width:0.8;\" x=\"51.683807\" xlink:href=\"#mc7822602a2\" y=\"224.64\"/>\r\n      </g>\r\n     </g>\r\n     <g id=\"text_1\">\r\n      <!-- 0 -->\r\n      <g transform=\"translate(48.502557 239.238437)scale(0.1 -0.1)\">\r\n       <defs>\r\n        <path d=\"M 31.78125 66.40625 \r\nQ 24.171875 66.40625 20.328125 58.90625 \r\nQ 16.5 51.421875 16.5 36.375 \r\nQ 16.5 21.390625 20.328125 13.890625 \r\nQ 24.171875 6.390625 31.78125 6.390625 \r\nQ 39.453125 6.390625 43.28125 13.890625 \r\nQ 47.125 21.390625 47.125 36.375 \r\nQ 47.125 51.421875 43.28125 58.90625 \r\nQ 39.453125 66.40625 31.78125 66.40625 \r\nz\r\nM 31.78125 74.21875 \r\nQ 44.046875 74.21875 50.515625 64.515625 \r\nQ 56.984375 54.828125 56.984375 36.375 \r\nQ 56.984375 17.96875 50.515625 8.265625 \r\nQ 44.046875 -1.421875 31.78125 -1.421875 \r\nQ 19.53125 -1.421875 13.0625 8.265625 \r\nQ 6.59375 17.96875 6.59375 36.375 \r\nQ 6.59375 54.828125 13.0625 64.515625 \r\nQ 19.53125 74.21875 31.78125 74.21875 \r\nz\r\n\" id=\"DejaVuSans-48\"/>\r\n       </defs>\r\n       <use xlink:href=\"#DejaVuSans-48\"/>\r\n      </g>\r\n     </g>\r\n    </g>\r\n    <g id=\"xtick_2\">\r\n     <g id=\"line2d_2\">\r\n      <g>\r\n       <use style=\"stroke:#000000;stroke-width:0.8;\" x=\"113.798835\" xlink:href=\"#mc7822602a2\" y=\"224.64\"/>\r\n      </g>\r\n     </g>\r\n     <g id=\"text_2\">\r\n      <!-- 10 -->\r\n      <g transform=\"translate(107.436335 239.238437)scale(0.1 -0.1)\">\r\n       <defs>\r\n        <path d=\"M 12.40625 8.296875 \r\nL 28.515625 8.296875 \r\nL 28.515625 63.921875 \r\nL 10.984375 60.40625 \r\nL 10.984375 69.390625 \r\nL 28.421875 72.90625 \r\nL 38.28125 72.90625 \r\nL 38.28125 8.296875 \r\nL 54.390625 8.296875 \r\nL 54.390625 0 \r\nL 12.40625 0 \r\nz\r\n\" id=\"DejaVuSans-49\"/>\r\n       </defs>\r\n       <use xlink:href=\"#DejaVuSans-49\"/>\r\n       <use x=\"63.623047\" xlink:href=\"#DejaVuSans-48\"/>\r\n      </g>\r\n     </g>\r\n    </g>\r\n    <g id=\"xtick_3\">\r\n     <g id=\"line2d_3\">\r\n      <g>\r\n       <use style=\"stroke:#000000;stroke-width:0.8;\" x=\"175.913862\" xlink:href=\"#mc7822602a2\" y=\"224.64\"/>\r\n      </g>\r\n     </g>\r\n     <g id=\"text_3\">\r\n      <!-- 20 -->\r\n      <g transform=\"translate(169.551362 239.238437)scale(0.1 -0.1)\">\r\n       <defs>\r\n        <path d=\"M 19.1875 8.296875 \r\nL 53.609375 8.296875 \r\nL 53.609375 0 \r\nL 7.328125 0 \r\nL 7.328125 8.296875 \r\nQ 12.9375 14.109375 22.625 23.890625 \r\nQ 32.328125 33.6875 34.8125 36.53125 \r\nQ 39.546875 41.84375 41.421875 45.53125 \r\nQ 43.3125 49.21875 43.3125 52.78125 \r\nQ 43.3125 58.59375 39.234375 62.25 \r\nQ 35.15625 65.921875 28.609375 65.921875 \r\nQ 23.96875 65.921875 18.8125 64.3125 \r\nQ 13.671875 62.703125 7.8125 59.421875 \r\nL 7.8125 69.390625 \r\nQ 13.765625 71.78125 18.9375 73 \r\nQ 24.125 74.21875 28.421875 74.21875 \r\nQ 39.75 74.21875 46.484375 68.546875 \r\nQ 53.21875 62.890625 53.21875 53.421875 \r\nQ 53.21875 48.921875 51.53125 44.890625 \r\nQ 49.859375 40.875 45.40625 35.40625 \r\nQ 44.1875 33.984375 37.640625 27.21875 \r\nQ 31.109375 20.453125 19.1875 8.296875 \r\nz\r\n\" id=\"DejaVuSans-50\"/>\r\n       </defs>\r\n       <use xlink:href=\"#DejaVuSans-50\"/>\r\n       <use x=\"63.623047\" xlink:href=\"#DejaVuSans-48\"/>\r\n      </g>\r\n     </g>\r\n    </g>\r\n    <g id=\"xtick_4\">\r\n     <g id=\"line2d_4\">\r\n      <g>\r\n       <use style=\"stroke:#000000;stroke-width:0.8;\" x=\"238.02889\" xlink:href=\"#mc7822602a2\" y=\"224.64\"/>\r\n      </g>\r\n     </g>\r\n     <g id=\"text_4\">\r\n      <!-- 30 -->\r\n      <g transform=\"translate(231.66639 239.238437)scale(0.1 -0.1)\">\r\n       <defs>\r\n        <path d=\"M 40.578125 39.3125 \r\nQ 47.65625 37.796875 51.625 33 \r\nQ 55.609375 28.21875 55.609375 21.1875 \r\nQ 55.609375 10.40625 48.1875 4.484375 \r\nQ 40.765625 -1.421875 27.09375 -1.421875 \r\nQ 22.515625 -1.421875 17.65625 -0.515625 \r\nQ 12.796875 0.390625 7.625 2.203125 \r\nL 7.625 11.71875 \r\nQ 11.71875 9.328125 16.59375 8.109375 \r\nQ 21.484375 6.890625 26.8125 6.890625 \r\nQ 36.078125 6.890625 40.9375 10.546875 \r\nQ 45.796875 14.203125 45.796875 21.1875 \r\nQ 45.796875 27.640625 41.28125 31.265625 \r\nQ 36.765625 34.90625 28.71875 34.90625 \r\nL 20.21875 34.90625 \r\nL 20.21875 43.015625 \r\nL 29.109375 43.015625 \r\nQ 36.375 43.015625 40.234375 45.921875 \r\nQ 44.09375 48.828125 44.09375 54.296875 \r\nQ 44.09375 59.90625 40.109375 62.90625 \r\nQ 36.140625 65.921875 28.71875 65.921875 \r\nQ 24.65625 65.921875 20.015625 65.03125 \r\nQ 15.375 64.15625 9.8125 62.3125 \r\nL 9.8125 71.09375 \r\nQ 15.4375 72.65625 20.34375 73.4375 \r\nQ 25.25 74.21875 29.59375 74.21875 \r\nQ 40.828125 74.21875 47.359375 69.109375 \r\nQ 53.90625 64.015625 53.90625 55.328125 \r\nQ 53.90625 49.265625 50.4375 45.09375 \r\nQ 46.96875 40.921875 40.578125 39.3125 \r\nz\r\n\" id=\"DejaVuSans-51\"/>\r\n       </defs>\r\n       <use xlink:href=\"#DejaVuSans-51\"/>\r\n       <use x=\"63.623047\" xlink:href=\"#DejaVuSans-48\"/>\r\n      </g>\r\n     </g>\r\n    </g>\r\n    <g id=\"xtick_5\">\r\n     <g id=\"line2d_5\">\r\n      <g>\r\n       <use style=\"stroke:#000000;stroke-width:0.8;\" x=\"300.143918\" xlink:href=\"#mc7822602a2\" y=\"224.64\"/>\r\n      </g>\r\n     </g>\r\n     <g id=\"text_5\">\r\n      <!-- 40 -->\r\n      <g transform=\"translate(293.781418 239.238437)scale(0.1 -0.1)\">\r\n       <defs>\r\n        <path d=\"M 37.796875 64.3125 \r\nL 12.890625 25.390625 \r\nL 37.796875 25.390625 \r\nz\r\nM 35.203125 72.90625 \r\nL 47.609375 72.90625 \r\nL 47.609375 25.390625 \r\nL 58.015625 25.390625 \r\nL 58.015625 17.1875 \r\nL 47.609375 17.1875 \r\nL 47.609375 0 \r\nL 37.796875 0 \r\nL 37.796875 17.1875 \r\nL 4.890625 17.1875 \r\nL 4.890625 26.703125 \r\nz\r\n\" id=\"DejaVuSans-52\"/>\r\n       </defs>\r\n       <use xlink:href=\"#DejaVuSans-52\"/>\r\n       <use x=\"63.623047\" xlink:href=\"#DejaVuSans-48\"/>\r\n      </g>\r\n     </g>\r\n    </g>\r\n    <g id=\"xtick_6\">\r\n     <g id=\"line2d_6\">\r\n      <g>\r\n       <use style=\"stroke:#000000;stroke-width:0.8;\" x=\"362.258946\" xlink:href=\"#mc7822602a2\" y=\"224.64\"/>\r\n      </g>\r\n     </g>\r\n     <g id=\"text_6\">\r\n      <!-- 50 -->\r\n      <g transform=\"translate(355.896446 239.238437)scale(0.1 -0.1)\">\r\n       <defs>\r\n        <path d=\"M 10.796875 72.90625 \r\nL 49.515625 72.90625 \r\nL 49.515625 64.59375 \r\nL 19.828125 64.59375 \r\nL 19.828125 46.734375 \r\nQ 21.96875 47.46875 24.109375 47.828125 \r\nQ 26.265625 48.1875 28.421875 48.1875 \r\nQ 40.625 48.1875 47.75 41.5 \r\nQ 54.890625 34.8125 54.890625 23.390625 \r\nQ 54.890625 11.625 47.5625 5.09375 \r\nQ 40.234375 -1.421875 26.90625 -1.421875 \r\nQ 22.3125 -1.421875 17.546875 -0.640625 \r\nQ 12.796875 0.140625 7.71875 1.703125 \r\nL 7.71875 11.625 \r\nQ 12.109375 9.234375 16.796875 8.0625 \r\nQ 21.484375 6.890625 26.703125 6.890625 \r\nQ 35.15625 6.890625 40.078125 11.328125 \r\nQ 45.015625 15.765625 45.015625 23.390625 \r\nQ 45.015625 31 40.078125 35.4375 \r\nQ 35.15625 39.890625 26.703125 39.890625 \r\nQ 22.75 39.890625 18.8125 39.015625 \r\nQ 14.890625 38.140625 10.796875 36.28125 \r\nz\r\n\" id=\"DejaVuSans-53\"/>\r\n       </defs>\r\n       <use xlink:href=\"#DejaVuSans-53\"/>\r\n       <use x=\"63.623047\" xlink:href=\"#DejaVuSans-48\"/>\r\n      </g>\r\n     </g>\r\n    </g>\r\n   </g>\r\n   <g id=\"matplotlib.axis_2\">\r\n    <g id=\"ytick_1\">\r\n     <g id=\"line2d_7\">\r\n      <defs>\r\n       <path d=\"M 0 0 \r\nL -3.5 0 \r\n\" id=\"m81e4856d1d\" style=\"stroke:#000000;stroke-width:0.8;\"/>\r\n      </defs>\r\n      <g>\r\n       <use style=\"stroke:#000000;stroke-width:0.8;\" x=\"36.465625\" xlink:href=\"#m81e4856d1d\" y=\"186.38334\"/>\r\n      </g>\r\n     </g>\r\n     <g id=\"text_7\">\r\n      <!-- 1.10 -->\r\n      <g transform=\"translate(7.2 190.182559)scale(0.1 -0.1)\">\r\n       <defs>\r\n        <path d=\"M 10.6875 12.40625 \r\nL 21 12.40625 \r\nL 21 0 \r\nL 10.6875 0 \r\nz\r\n\" id=\"DejaVuSans-46\"/>\r\n       </defs>\r\n       <use xlink:href=\"#DejaVuSans-49\"/>\r\n       <use x=\"63.623047\" xlink:href=\"#DejaVuSans-46\"/>\r\n       <use x=\"95.410156\" xlink:href=\"#DejaVuSans-49\"/>\r\n       <use x=\"159.033203\" xlink:href=\"#DejaVuSans-48\"/>\r\n      </g>\r\n     </g>\r\n    </g>\r\n    <g id=\"ytick_2\">\r\n     <g id=\"line2d_8\">\r\n      <g>\r\n       <use style=\"stroke:#000000;stroke-width:0.8;\" x=\"36.465625\" xlink:href=\"#m81e4856d1d\" y=\"144.611003\"/>\r\n      </g>\r\n     </g>\r\n     <g id=\"text_8\">\r\n      <!-- 1.15 -->\r\n      <g transform=\"translate(7.2 148.410222)scale(0.1 -0.1)\">\r\n       <use xlink:href=\"#DejaVuSans-49\"/>\r\n       <use x=\"63.623047\" xlink:href=\"#DejaVuSans-46\"/>\r\n       <use x=\"95.410156\" xlink:href=\"#DejaVuSans-49\"/>\r\n       <use x=\"159.033203\" xlink:href=\"#DejaVuSans-53\"/>\r\n      </g>\r\n     </g>\r\n    </g>\r\n    <g id=\"ytick_3\">\r\n     <g id=\"line2d_9\">\r\n      <g>\r\n       <use style=\"stroke:#000000;stroke-width:0.8;\" x=\"36.465625\" xlink:href=\"#m81e4856d1d\" y=\"102.838666\"/>\r\n      </g>\r\n     </g>\r\n     <g id=\"text_9\">\r\n      <!-- 1.20 -->\r\n      <g transform=\"translate(7.2 106.637885)scale(0.1 -0.1)\">\r\n       <use xlink:href=\"#DejaVuSans-49\"/>\r\n       <use x=\"63.623047\" xlink:href=\"#DejaVuSans-46\"/>\r\n       <use x=\"95.410156\" xlink:href=\"#DejaVuSans-50\"/>\r\n       <use x=\"159.033203\" xlink:href=\"#DejaVuSans-48\"/>\r\n      </g>\r\n     </g>\r\n    </g>\r\n    <g id=\"ytick_4\">\r\n     <g id=\"line2d_10\">\r\n      <g>\r\n       <use style=\"stroke:#000000;stroke-width:0.8;\" x=\"36.465625\" xlink:href=\"#m81e4856d1d\" y=\"61.06633\"/>\r\n      </g>\r\n     </g>\r\n     <g id=\"text_10\">\r\n      <!-- 1.25 -->\r\n      <g transform=\"translate(7.2 64.865548)scale(0.1 -0.1)\">\r\n       <use xlink:href=\"#DejaVuSans-49\"/>\r\n       <use x=\"63.623047\" xlink:href=\"#DejaVuSans-46\"/>\r\n       <use x=\"95.410156\" xlink:href=\"#DejaVuSans-50\"/>\r\n       <use x=\"159.033203\" xlink:href=\"#DejaVuSans-53\"/>\r\n      </g>\r\n     </g>\r\n    </g>\r\n    <g id=\"ytick_5\">\r\n     <g id=\"line2d_11\">\r\n      <g>\r\n       <use style=\"stroke:#000000;stroke-width:0.8;\" x=\"36.465625\" xlink:href=\"#m81e4856d1d\" y=\"19.293993\"/>\r\n      </g>\r\n     </g>\r\n     <g id=\"text_11\">\r\n      <!-- 1.30 -->\r\n      <g transform=\"translate(7.2 23.093211)scale(0.1 -0.1)\">\r\n       <use xlink:href=\"#DejaVuSans-49\"/>\r\n       <use x=\"63.623047\" xlink:href=\"#DejaVuSans-46\"/>\r\n       <use x=\"95.410156\" xlink:href=\"#DejaVuSans-51\"/>\r\n       <use x=\"159.033203\" xlink:href=\"#DejaVuSans-48\"/>\r\n      </g>\r\n     </g>\r\n    </g>\r\n   </g>\r\n   <g id=\"line2d_12\">\r\n    <path clip-path=\"url(#p0b46f19a5e)\" d=\"M 51.683807 17.083636 \r\nL 57.89531 37.265103 \r\nL 64.106812 62.6165 \r\nL 70.318315 89.786885 \r\nL 76.529818 116.769261 \r\nL 82.741321 141.869347 \r\nL 88.952824 163.58884 \r\nL 95.164326 180.867682 \r\nL 101.375829 193.214392 \r\nL 107.587332 200.755816 \r\nL 113.798835 204.284661 \r\nL 120.010337 204.999361 \r\nL 126.22184 204.122271 \r\nL 132.433343 202.644019 \r\nL 138.644846 201.243945 \r\nL 144.856349 200.267171 \r\nL 151.067851 199.79215 \r\nL 157.279354 199.763795 \r\nL 163.490857 200.088436 \r\nL 169.70236 200.674261 \r\nL 175.913862 201.442607 \r\nL 182.125365 202.33195 \r\nL 188.336868 203.294792 \r\nL 194.548371 204.293339 \r\nL 200.759874 205.292443 \r\nL 206.971376 206.25972 \r\nL 213.182879 207.173647 \r\nL 219.394382 208.026649 \r\nL 225.605885 208.82193 \r\nL 231.817388 209.567439 \r\nL 238.02889 210.269633 \r\nL 244.240393 210.929483 \r\nL 250.451896 211.542833 \r\nL 256.663399 212.103696 \r\nL 262.874901 212.60697 \r\nL 269.086404 213.049137 \r\nL 275.297907 213.428166 \r\nL 281.50941 213.743916 \r\nL 287.720913 213.998885 \r\nL 293.932415 214.198493 \r\nL 300.143918 214.350332 \r\nL 306.355421 214.462722 \r\nL 312.566924 214.54368 \r\nL 318.778426 214.600666 \r\nL 324.989929 214.640541 \r\nL 331.201432 214.669435 \r\nL 337.412935 214.692456 \r\nL 343.624438 214.713347 \r\nL 349.83594 214.734334 \r\nL 356.047443 214.756364 \r\n\" style=\"fill:none;stroke:#1f77b4;stroke-linecap:square;stroke-width:1.5;\"/>\r\n   </g>\r\n   <g id=\"patch_3\">\r\n    <path d=\"M 36.465625 224.64 \r\nL 36.465625 7.2 \r\n\" style=\"fill:none;stroke:#000000;stroke-linecap:square;stroke-linejoin:miter;stroke-width:0.8;\"/>\r\n   </g>\r\n   <g id=\"patch_4\">\r\n    <path d=\"M 371.265625 224.64 \r\nL 371.265625 7.2 \r\n\" style=\"fill:none;stroke:#000000;stroke-linecap:square;stroke-linejoin:miter;stroke-width:0.8;\"/>\r\n   </g>\r\n   <g id=\"patch_5\">\r\n    <path d=\"M 36.465625 224.64 \r\nL 371.265625 224.64 \r\n\" style=\"fill:none;stroke:#000000;stroke-linecap:square;stroke-linejoin:miter;stroke-width:0.8;\"/>\r\n   </g>\r\n   <g id=\"patch_6\">\r\n    <path d=\"M 36.465625 7.2 \r\nL 371.265625 7.2 \r\n\" style=\"fill:none;stroke:#000000;stroke-linecap:square;stroke-linejoin:miter;stroke-width:0.8;\"/>\r\n   </g>\r\n  </g>\r\n </g>\r\n <defs>\r\n  <clipPath id=\"p0b46f19a5e\">\r\n   <rect height=\"217.44\" width=\"334.8\" x=\"36.465625\" y=\"7.2\"/>\r\n  </clipPath>\r\n </defs>\r\n</svg>\r\n",
      "image/png": "[encoded data removed]"
     },
     "metadata": {
      "needs_background": "light"
     }
    }
   ],
   "source": [
    "plt.plot(losses)"
   ]
  },
  {
   "cell_type": "code",
   "execution_count": 514,
   "metadata": {},
   "outputs": [],
   "source": [
    "# Calculates accuracy of test data\n",
    "def accuracy(y, y_pred):\n",
    "\n",
    "    total_correct = 0\n",
    "    confusion_matrix = np.zeros(shape=(CLASS_NUMBER, CLASS_NUMBER))\n",
    "\n",
    "    numData = y.shape[1]\n",
    "    \n",
    "    # Iterating through all of data\n",
    "    for data in range(numData):\n",
    "        # Returns array for index of max probabilities for each data point \n",
    "        y_indexes = np.argmax(y, axis=0)\n",
    "        y_pred_indexes = np.argmax(y_pred, axis=0)\n",
    "        \n",
    "        confusion_matrix[y_indexes[data]][y_pred_indexes[data]] += 1\n",
    "        total_correct = np.sum(y_indexes == y_pred_indexes)\n",
    "        \n",
    "    total_accuracy = total_correct/numData\n",
    "    return confusion_matrix, total_accuracy \n"
   ]
  },
  {
   "cell_type": "code",
   "execution_count": 515,
   "metadata": {},
   "outputs": [
    {
     "output_type": "stream",
     "name": "stdout",
     "text": [
      "[[5. 1. 2.]\n [7. 2. 3.]\n [5. 2. 3.]]\n0.3333333333333333\n"
     ]
    }
   ],
   "source": [
    "# Accuracy and confusion matrix check\n",
    "z = class_corr(w, b, x_test)\n",
    "y_pred = softmax(z)\n",
    "\n",
    "confusion_matrix, model_acc = accuracy(y_test, y_pred)\n",
    "\n",
    "print(confusion_matrix)\n",
    "print(model_acc)"
   ]
  }
 ]
}