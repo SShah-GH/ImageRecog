{
 "metadata": {
  "language_info": {
   "codemirror_mode": {
    "name": "ipython",
    "version": 3
   },
   "file_extension": ".py",
   "mimetype": "text/x-python",
   "name": "python",
   "nbconvert_exporter": "python",
   "pygments_lexer": "ipython3",
   "version": "3.8.5-final"
  },
  "orig_nbformat": 2,
  "kernelspec": {
   "name": "python3",
   "display_name": "Python 3",
   "language": "python"
  }
 },
 "nbformat": 4,
 "nbformat_minor": 2,
 "cells": [
  {
   "cell_type": "code",
   "execution_count": 43,
   "metadata": {},
   "outputs": [],
   "source": [
    "# Import needed libraries\n",
    "import pandas as pd\n",
    "import numpy as np\n",
    "import matplotlib.pyplot as plt"
   ]
  },
  {
   "cell_type": "code",
   "execution_count": 44,
   "metadata": {},
   "outputs": [],
   "source": [
    "#Defines Global Variables data entries\n",
    "TOTAL_DATA = 150\n",
    "\n",
    "# Splits data into training(80%) and testing(20%)\n",
    "TRAINING_DATA = int(TOTAL_DATA*0.8) \n",
    "TESTING_DATA = int(TOTAL_DATA*0.2)\n",
    "\n",
    "# Number of input features\n",
    "FEATURE_NUMBER = 4\n",
    "\n",
    "# Number of classes and respective indexing\n",
    "CLASS_NUMBER = 3\n",
    "CLASSNAMES = ['Iris-setosa', 'Iris-versicolor', 'Iris-virginica']"
   ]
  },
  {
   "cell_type": "code",
   "execution_count": 45,
   "metadata": {},
   "outputs": [
    {
     "output_type": "execute_result",
     "data": {
      "text/plain": [
       "    Id  SepalLengthCm  SepalWidthCm  PetalLengthCm  PetalWidthCm  \\\n",
       "33  34            5.5           4.2            1.4           0.2   \n",
       "67  68            5.8           2.7            4.1           1.0   \n",
       "69  70            5.6           2.5            3.9           1.1   \n",
       "86  87            6.7           3.1            4.7           1.5   \n",
       "88  89            5.6           3.0            4.1           1.3   \n",
       "\n",
       "            Species  \n",
       "33      Iris-setosa  \n",
       "67  Iris-versicolor  \n",
       "69  Iris-versicolor  \n",
       "86  Iris-versicolor  \n",
       "88  Iris-versicolor  "
      ],
      "text/html": "<div>\n<style scoped>\n    .dataframe tbody tr th:only-of-type {\n        vertical-align: middle;\n    }\n\n    .dataframe tbody tr th {\n        vertical-align: top;\n    }\n\n    .dataframe thead th {\n        text-align: right;\n    }\n</style>\n<table border=\"1\" class=\"dataframe\">\n  <thead>\n    <tr style=\"text-align: right;\">\n      <th></th>\n      <th>Id</th>\n      <th>SepalLengthCm</th>\n      <th>SepalWidthCm</th>\n      <th>PetalLengthCm</th>\n      <th>PetalWidthCm</th>\n      <th>Species</th>\n    </tr>\n  </thead>\n  <tbody>\n    <tr>\n      <th>33</th>\n      <td>34</td>\n      <td>5.5</td>\n      <td>4.2</td>\n      <td>1.4</td>\n      <td>0.2</td>\n      <td>Iris-setosa</td>\n    </tr>\n    <tr>\n      <th>67</th>\n      <td>68</td>\n      <td>5.8</td>\n      <td>2.7</td>\n      <td>4.1</td>\n      <td>1.0</td>\n      <td>Iris-versicolor</td>\n    </tr>\n    <tr>\n      <th>69</th>\n      <td>70</td>\n      <td>5.6</td>\n      <td>2.5</td>\n      <td>3.9</td>\n      <td>1.1</td>\n      <td>Iris-versicolor</td>\n    </tr>\n    <tr>\n      <th>86</th>\n      <td>87</td>\n      <td>6.7</td>\n      <td>3.1</td>\n      <td>4.7</td>\n      <td>1.5</td>\n      <td>Iris-versicolor</td>\n    </tr>\n    <tr>\n      <th>88</th>\n      <td>89</td>\n      <td>5.6</td>\n      <td>3.0</td>\n      <td>4.1</td>\n      <td>1.3</td>\n      <td>Iris-versicolor</td>\n    </tr>\n  </tbody>\n</table>\n</div>"
     },
     "metadata": {},
     "execution_count": 45
    }
   ],
   "source": [
    "# Read in data\n",
    "data = pd.read_csv('../../DataSets/Iris.csv')\n",
    "\n",
    "#Splits into 2 classes instead of 3\n",
    "#data = data[0:100]\n",
    "\n",
    "# Shuffle data\n",
    "data = data.sample(frac = 1)\n",
    "\n",
    "data.head()"
   ]
  },
  {
   "cell_type": "code",
   "execution_count": 46,
   "metadata": {},
   "outputs": [],
   "source": [
    "# Pulling feature data and splicing it for training/testing using 80-20 ratio\n",
    "x_train = data.iloc[:TRAINING_DATA, 1:FEATURE_NUMBER+1].values\n",
    "x_test = data.iloc[TRAINING_DATA:, 1:FEATURE_NUMBER+1].values\n",
    "\n",
    "# Standardizes the data by dividing the entries by standard deviation (i.e calculating how many standard deviations the entries are from the center)\n",
    "x_train = (x_train - np.mean(x_train, axis=0)) / np.std(x_train, axis=0)\n",
    "x_test = (x_test - np.mean(x_test, axis=0)) / np.std(x_test, axis=0)\n",
    "\n",
    "# Reshape for matrix multiplication\n",
    "x_train = x_train.reshape(FEATURE_NUMBER, TRAINING_DATA)\n",
    "x_test = x_test.reshape(FEATURE_NUMBER, TESTING_DATA)\n",
    "\n"
   ]
  },
  {
   "cell_type": "code",
   "execution_count": 47,
   "metadata": {},
   "outputs": [],
   "source": [
    "# Pulling label data and splicing it for training/testing using 80-20 ratio\n",
    "y_train_data = data.iloc[:TRAINING_DATA, -1].values\n",
    "y_test_data = data.iloc[TRAINING_DATA:, -1].values\n",
    "\n",
    "# Create vectorized representations of each data point's class membership\n",
    "y_train = np.zeros(shape=(CLASS_NUMBER, TRAINING_DATA))\n",
    "y_test = np.zeros(shape=(CLASS_NUMBER, TESTING_DATA))\n",
    "\n",
    "# Setting numeric labels for each data point's class\n",
    "for row in range(CLASS_NUMBER):\n",
    "    y_train[row, :TRAINING_DATA]  = [ele == CLASSNAMES[row] for ele in y_train_data]\n",
    "    y_test[row, :TESTING_DATA] = [ele == CLASSNAMES[row] for ele in y_test_data]"
   ]
  },
  {
   "cell_type": "code",
   "execution_count": 48,
   "metadata": {},
   "outputs": [],
   "source": [
    "# Randomly initialize weights and bias matricies\n",
    "w = np.random.rand(CLASS_NUMBER, FEATURE_NUMBER)\n",
    "b = np.random.rand(CLASS_NUMBER, 1)\n",
    "\n"
   ]
  },
  {
   "cell_type": "code",
   "execution_count": 49,
   "metadata": {},
   "outputs": [
    {
     "output_type": "stream",
     "name": "stdout",
     "text": [
      "[[ 1.46088947  1.14107119  0.73385391  0.4305593   0.81380943  0.98833758\n   1.16469165  0.63034433  0.60539095  1.66594421 -0.32478523 -0.34380308\n   0.65892557  0.61489396  0.53138555  0.08942813 -0.29486049  0.07927704\n  -0.01640928 -0.51696326  0.1714313  -0.15503334  0.40507474  0.44188751\n   0.55213212  0.02886936  0.2150993   1.00574053 -0.47222479 -0.21601135]\n [ 1.55569674  1.5718186   1.09727223  0.61965236  1.14173418  1.51760568\n   1.7781601   0.70192751  0.94179117  1.40157682  0.23526854 -0.07064192\n   0.81566693  1.03293677 -0.39325984 -0.68183228 -0.92687304 -0.22555287\n  -1.00021645 -0.30334976 -0.88263259 -1.13378476  0.08968742  0.23636669\n   0.35678728 -0.24283627  0.18496225 -0.21819185 -0.49737587 -0.45051935]\n [ 1.05829961  1.29087222  0.96587026  0.81522871  1.19357155  1.43812428\n   1.56053648  0.87392289  1.26378044  0.92765004  1.21267447  0.92115272\n   0.9768068   1.19803556  0.10684119  0.07853686  0.16264987  0.53073833\n  -0.11924845  0.57993148 -0.17667496 -0.19700141  0.45600811  0.5077073\n   0.57279473  0.38946892  0.50631201  0.0048534   0.37076681  0.24304456]]\n"
     ]
    }
   ],
   "source": [
    "#Class coresspondance function, returns a vector (z), which will be input into softmax function\n",
    "#The highest number in z represents the correct class\n",
    "def class_corr(weights, bias, x):\n",
    "    \n",
    "    numData = x.shape[1]\n",
    "    #print(numData)\n",
    "    z = weights.dot(x)\n",
    "    #print(z)\n",
    "    for input in range(numData):\n",
    "        z[0:CLASS_NUMBER, input:input+1] += bias\n",
    "\n",
    "    return z\n",
    "\n",
    "z = class_corr(w, b, x_test)\n",
    "print(z)\n",
    "\n"
   ]
  },
  {
   "cell_type": "code",
   "execution_count": 50,
   "metadata": {},
   "outputs": [
    {
     "output_type": "stream",
     "name": "stdout",
     "text": [
      "[[0.36126734 0.27026954 0.27031573 0.27193999 0.25973882 0.23442993\n  0.2308155  0.29850621 0.23086275 0.44531133 0.13507084 0.17073447\n  0.28217452 0.2319839  0.48762891 0.40789727 0.32137227 0.30231077\n  0.439337   0.19109513 0.48672639 0.42832415 0.35948477 0.34695028\n  0.35168811 0.31286492 0.30226441 0.60182061 0.23264094 0.29642461]\n [0.39719428 0.41578453 0.38877819 0.32854521 0.36053944 0.39798918\n  0.42627605 0.32065761 0.32318457 0.3418617  0.23647752 0.22436421\n  0.33005757 0.35238023 0.19342876 0.18862387 0.17081611 0.22287824\n  0.16426149 0.23660329 0.16963316 0.16095565 0.26224639 0.28249495\n  0.28928139 0.23842765 0.29329095 0.17697828 0.22686274 0.23445998]\n [0.24153838 0.31394593 0.34090608 0.3995148  0.37972174 0.36758089\n  0.34290846 0.38083618 0.44595268 0.21282697 0.62845164 0.60490132\n  0.38776791 0.41563587 0.31894233 0.40347886 0.50781161 0.47481099\n  0.39640151 0.57230158 0.34364044 0.4107202  0.37826884 0.37055477\n  0.3590305  0.44870744 0.40444464 0.22120111 0.54049632 0.46911541]]\n"
     ]
    }
   ],
   "source": [
    "#Softmax Function\n",
    "#expnentiates all elements of the z vector and divides by their sum to see class probability\n",
    "def softmax(z):\n",
    "\n",
    "    #creates empty probability array\n",
    "    y_hat = np.empty([z.shape[0], z.shape[1]])\n",
    "    numData = z.shape[1]\n",
    "\n",
    "    #exponentiates the matrix\n",
    "    z_exp = np.exp(z)\n",
    "\n",
    "    #Converts z vector into probability distribution\n",
    "    for input in range(numData):\n",
    "        z_sum = np.sum(z_exp[0:CLASS_NUMBER, input:input+1])\n",
    "        y_hat[0:CLASS_NUMBER, input:input+1] = z_exp[0:CLASS_NUMBER, input:input+1]/z_sum\n",
    "    return y_hat\n",
    "\n",
    "\n",
    "y_pred = softmax(z)\n",
    "print(softmax(z))\n"
   ]
  },
  {
   "cell_type": "code",
   "execution_count": 51,
   "metadata": {},
   "outputs": [
    {
     "output_type": "execute_result",
     "data": {
      "text/plain": [
       "1.0966140806448188"
      ]
     },
     "metadata": {},
     "execution_count": 51
    }
   ],
   "source": [
    "#Loss function\n",
    "#Returns the sum of all probabilities compared to the actual class\n",
    "def cost(y, y_pred):\n",
    "\n",
    "    total_loss = 0\n",
    "\n",
    "    #Finds number of data samples\n",
    "    numData = y.shape[1]\n",
    "\n",
    "    #Manipulates y_pred into right form for the loss function\n",
    "    y_pred = -1*np.log(y_pred)\n",
    "\n",
    "    #iterates over all data samples\n",
    "    for column in range(numData):\n",
    "\n",
    "        #Computes total class loss for each data sample and sums them\n",
    "        y_cur = y[0:CLASS_NUMBER, column:column+1].transpose()\n",
    "        y_pred_cur = (y_pred[0:CLASS_NUMBER, column:column+1])\n",
    "        total_loss += y_cur.dot(y_pred_cur)[0][0]\n",
    "\n",
    "    #Divdes by number of data samples to find average error\n",
    "    total_loss = total_loss/numData\n",
    "    return total_loss\n",
    "    \n",
    "    \n",
    "\n",
    "        \n",
    "\n",
    "\n",
    "\n",
    "cost(y_test, y_pred)"
   ]
  },
  {
   "cell_type": "code",
   "execution_count": 52,
   "metadata": {},
   "outputs": [
    {
     "output_type": "execute_result",
     "data": {
      "text/plain": [
       "{'gradWeights': array([[ 0.00868589,  0.14385615, -0.15254204],\n",
       "        [-0.00167006,  0.12000343, -0.11833337],\n",
       "        [ 0.12514818, -0.13915201,  0.01400383],\n",
       "        [ 0.03243994, -0.06758473,  0.0351448 ]]),\n",
       " 'gradBias': array([[ 0.15207505, -0.08815556, -0.06391949]])}"
      ]
     },
     "metadata": {},
     "execution_count": 52
    }
   ],
   "source": [
    "# Take the gradients of the loss with respect to weights and bias\n",
    "def findGradients(x, y, y_pred):\n",
    "    # Number of data samples\n",
    "    numData = x.shape[1]\n",
    "\n",
    "    # Calculate error for gradient computations\n",
    "    error = y_pred - y\n",
    "    error = error.transpose()\n",
    "    \n",
    "\n",
    "    # Dictionary for holding gradient values\n",
    "    gradientDict = dict()\n",
    "    gradientDict['gradWeights'] = np.array((1/numData) * x.dot(error))\n",
    "    gradientDict['gradBias'] =  ((1/numData) * error.sum(axis=0)).reshape(1, CLASS_NUMBER)\n",
    "    \n",
    "    return gradientDict\n",
    "\n",
    "y_pred = softmax(z)\n",
    "findGradients(x_test, y_test, y_pred)"
   ]
  },
  {
   "cell_type": "code",
   "execution_count": 53,
   "metadata": {},
   "outputs": [],
   "source": [
    "# Repetitively perform gradient descent to improve model \n",
    "def gradientDescent(x, y, weights, bias, losses, max_iter, learning_rate, coeff_momentum):\n",
    "    #Intializes starting variables and matricies which will get updated during momentum calculation\n",
    "    old_grad_weights = np.zeros(shape=(FEATURE_NUMBER, CLASS_NUMBER))\n",
    "    old_grad_bias = np.zeros(shape=(1, CLASS_NUMBER))\n",
    "\n",
    "    momentum_grad_weights = np.zeros(shape=(FEATURE_NUMBER, CLASS_NUMBER))\n",
    "    momentum_grad_bias = np.zeros(shape=(1, CLASS_NUMBER))\n",
    "\n",
    "    for i in range(max_iter): \n",
    "        z = class_corr(weights, bias, x)\n",
    "        #print(z.shape)\n",
    "        y_pred = softmax(z)\n",
    "        gradients = findGradients(x, y, y_pred)\n",
    "\n",
    "        #Calculates Momentum\n",
    "        momentum_grad_weights = coeff_momentum * momentum_grad_weights + (1-coeff_momentum) * old_grad_weights\n",
    "        momentum_grad_bias = coeff_momentum * momentum_grad_bias + (1-coeff_momentum) * old_grad_bias\n",
    "        \n",
    "        # Compute gradient descent\n",
    "        weights = weights - (learning_rate * momentum_grad_weights.transpose())\n",
    "        bias = bias - (learning_rate * momentum_grad_bias.transpose())\n",
    "       \n",
    "        #Updates the old gradients for weights and bias\n",
    "        old_grad_weights = gradients[\"gradWeights\"]\n",
    "        old_grad_bias = gradients[\"gradBias\"]\n",
    "\n",
    "        # Not required - meant to visualize model's performance\n",
    "        loss = cost(y, y_pred)\n",
    "        losses.append(loss)\n",
    "\n",
    "        learning_rate *= 0.95\n",
    "\n",
    "    return weights, bias\n"
   ]
  },
  {
   "cell_type": "code",
   "execution_count": 54,
   "metadata": {},
   "outputs": [],
   "source": [
    "# List for storing log loss over time\n",
    "losses = []\n",
    "\n",
    "w, b = gradientDescent(x_train, y_train, w, b, losses, max_iter=50, learning_rate=0.1, coeff_momentum=0.9)\n",
    "\n",
    "#print(w)\n",
    "#print(b)"
   ]
  },
  {
   "cell_type": "code",
   "execution_count": 55,
   "metadata": {},
   "outputs": [
    {
     "output_type": "execute_result",
     "data": {
      "text/plain": [
       "[<matplotlib.lines.Line2D at 0x20d3dcccac0>]"
      ]
     },
     "metadata": {},
     "execution_count": 55
    },
    {
     "output_type": "display_data",
     "data": {
      "text/plain": "<Figure size 432x288 with 1 Axes>",
      "image/svg+xml": "<?xml version=\"1.0\" encoding=\"utf-8\" standalone=\"no\"?>\r\n<!DOCTYPE svg PUBLIC \"-//W3C//DTD SVG 1.1//EN\"\r\n  \"http://www.w3.org/Graphics/SVG/1.1/DTD/svg11.dtd\">\r\n<!-- Created with matplotlib (https://matplotlib.org/) -->\r\n<svg height=\"248.518125pt\" version=\"1.1\" viewBox=\"0 0 384.828125 248.518125\" width=\"384.828125pt\" xmlns=\"http://www.w3.org/2000/svg\" xmlns:xlink=\"http://www.w3.org/1999/xlink\">\r\n <metadata>\r\n  <rdf:RDF xmlns:cc=\"http://creativecommons.org/ns#\" xmlns:dc=\"http://purl.org/dc/elements/1.1/\" xmlns:rdf=\"http://www.w3.org/1999/02/22-rdf-syntax-ns#\">\r\n   <cc:Work>\r\n    <dc:type rdf:resource=\"http://purl.org/dc/dcmitype/StillImage\"/>\r\n    <dc:date>2020-12-30T12:53:42.334521</dc:date>\r\n    <dc:format>image/svg+xml</dc:format>\r\n    <dc:creator>\r\n     <cc:Agent>\r\n      <dc:title>Matplotlib v3.3.2, https://matplotlib.org/</dc:title>\r\n     </cc:Agent>\r\n    </dc:creator>\r\n   </cc:Work>\r\n  </rdf:RDF>\r\n </metadata>\r\n <defs>\r\n  <style type=\"text/css\">*{stroke-linecap:butt;stroke-linejoin:round;}</style>\r\n </defs>\r\n <g id=\"figure_1\">\r\n  <g id=\"patch_1\">\r\n   <path d=\"M 0 248.518125 \r\nL 384.828125 248.518125 \r\nL 384.828125 0 \r\nL 0 0 \r\nz\r\n\" style=\"fill:none;\"/>\r\n  </g>\r\n  <g id=\"axes_1\">\r\n   <g id=\"patch_2\">\r\n    <path d=\"M 42.828125 224.64 \r\nL 377.628125 224.64 \r\nL 377.628125 7.2 \r\nL 42.828125 7.2 \r\nz\r\n\" style=\"fill:#ffffff;\"/>\r\n   </g>\r\n   <g id=\"matplotlib.axis_1\">\r\n    <g id=\"xtick_1\">\r\n     <g id=\"line2d_1\">\r\n      <defs>\r\n       <path d=\"M 0 0 \r\nL 0 3.5 \r\n\" id=\"md996425811\" style=\"stroke:#000000;stroke-width:0.8;\"/>\r\n      </defs>\r\n      <g>\r\n       <use style=\"stroke:#000000;stroke-width:0.8;\" x=\"58.046307\" xlink:href=\"#md996425811\" y=\"224.64\"/>\r\n      </g>\r\n     </g>\r\n     <g id=\"text_1\">\r\n      <!-- 0 -->\r\n      <g transform=\"translate(54.865057 239.238438)scale(0.1 -0.1)\">\r\n       <defs>\r\n        <path d=\"M 31.78125 66.40625 \r\nQ 24.171875 66.40625 20.328125 58.90625 \r\nQ 16.5 51.421875 16.5 36.375 \r\nQ 16.5 21.390625 20.328125 13.890625 \r\nQ 24.171875 6.390625 31.78125 6.390625 \r\nQ 39.453125 6.390625 43.28125 13.890625 \r\nQ 47.125 21.390625 47.125 36.375 \r\nQ 47.125 51.421875 43.28125 58.90625 \r\nQ 39.453125 66.40625 31.78125 66.40625 \r\nz\r\nM 31.78125 74.21875 \r\nQ 44.046875 74.21875 50.515625 64.515625 \r\nQ 56.984375 54.828125 56.984375 36.375 \r\nQ 56.984375 17.96875 50.515625 8.265625 \r\nQ 44.046875 -1.421875 31.78125 -1.421875 \r\nQ 19.53125 -1.421875 13.0625 8.265625 \r\nQ 6.59375 17.96875 6.59375 36.375 \r\nQ 6.59375 54.828125 13.0625 64.515625 \r\nQ 19.53125 74.21875 31.78125 74.21875 \r\nz\r\n\" id=\"DejaVuSans-48\"/>\r\n       </defs>\r\n       <use xlink:href=\"#DejaVuSans-48\"/>\r\n      </g>\r\n     </g>\r\n    </g>\r\n    <g id=\"xtick_2\">\r\n     <g id=\"line2d_2\">\r\n      <g>\r\n       <use style=\"stroke:#000000;stroke-width:0.8;\" x=\"120.161335\" xlink:href=\"#md996425811\" y=\"224.64\"/>\r\n      </g>\r\n     </g>\r\n     <g id=\"text_2\">\r\n      <!-- 10 -->\r\n      <g transform=\"translate(113.798835 239.238438)scale(0.1 -0.1)\">\r\n       <defs>\r\n        <path d=\"M 12.40625 8.296875 \r\nL 28.515625 8.296875 \r\nL 28.515625 63.921875 \r\nL 10.984375 60.40625 \r\nL 10.984375 69.390625 \r\nL 28.421875 72.90625 \r\nL 38.28125 72.90625 \r\nL 38.28125 8.296875 \r\nL 54.390625 8.296875 \r\nL 54.390625 0 \r\nL 12.40625 0 \r\nz\r\n\" id=\"DejaVuSans-49\"/>\r\n       </defs>\r\n       <use xlink:href=\"#DejaVuSans-49\"/>\r\n       <use x=\"63.623047\" xlink:href=\"#DejaVuSans-48\"/>\r\n      </g>\r\n     </g>\r\n    </g>\r\n    <g id=\"xtick_3\">\r\n     <g id=\"line2d_3\">\r\n      <g>\r\n       <use style=\"stroke:#000000;stroke-width:0.8;\" x=\"182.276362\" xlink:href=\"#md996425811\" y=\"224.64\"/>\r\n      </g>\r\n     </g>\r\n     <g id=\"text_3\">\r\n      <!-- 20 -->\r\n      <g transform=\"translate(175.913862 239.238438)scale(0.1 -0.1)\">\r\n       <defs>\r\n        <path d=\"M 19.1875 8.296875 \r\nL 53.609375 8.296875 \r\nL 53.609375 0 \r\nL 7.328125 0 \r\nL 7.328125 8.296875 \r\nQ 12.9375 14.109375 22.625 23.890625 \r\nQ 32.328125 33.6875 34.8125 36.53125 \r\nQ 39.546875 41.84375 41.421875 45.53125 \r\nQ 43.3125 49.21875 43.3125 52.78125 \r\nQ 43.3125 58.59375 39.234375 62.25 \r\nQ 35.15625 65.921875 28.609375 65.921875 \r\nQ 23.96875 65.921875 18.8125 64.3125 \r\nQ 13.671875 62.703125 7.8125 59.421875 \r\nL 7.8125 69.390625 \r\nQ 13.765625 71.78125 18.9375 73 \r\nQ 24.125 74.21875 28.421875 74.21875 \r\nQ 39.75 74.21875 46.484375 68.546875 \r\nQ 53.21875 62.890625 53.21875 53.421875 \r\nQ 53.21875 48.921875 51.53125 44.890625 \r\nQ 49.859375 40.875 45.40625 35.40625 \r\nQ 44.1875 33.984375 37.640625 27.21875 \r\nQ 31.109375 20.453125 19.1875 8.296875 \r\nz\r\n\" id=\"DejaVuSans-50\"/>\r\n       </defs>\r\n       <use xlink:href=\"#DejaVuSans-50\"/>\r\n       <use x=\"63.623047\" xlink:href=\"#DejaVuSans-48\"/>\r\n      </g>\r\n     </g>\r\n    </g>\r\n    <g id=\"xtick_4\">\r\n     <g id=\"line2d_4\">\r\n      <g>\r\n       <use style=\"stroke:#000000;stroke-width:0.8;\" x=\"244.39139\" xlink:href=\"#md996425811\" y=\"224.64\"/>\r\n      </g>\r\n     </g>\r\n     <g id=\"text_4\">\r\n      <!-- 30 -->\r\n      <g transform=\"translate(238.02889 239.238438)scale(0.1 -0.1)\">\r\n       <defs>\r\n        <path d=\"M 40.578125 39.3125 \r\nQ 47.65625 37.796875 51.625 33 \r\nQ 55.609375 28.21875 55.609375 21.1875 \r\nQ 55.609375 10.40625 48.1875 4.484375 \r\nQ 40.765625 -1.421875 27.09375 -1.421875 \r\nQ 22.515625 -1.421875 17.65625 -0.515625 \r\nQ 12.796875 0.390625 7.625 2.203125 \r\nL 7.625 11.71875 \r\nQ 11.71875 9.328125 16.59375 8.109375 \r\nQ 21.484375 6.890625 26.8125 6.890625 \r\nQ 36.078125 6.890625 40.9375 10.546875 \r\nQ 45.796875 14.203125 45.796875 21.1875 \r\nQ 45.796875 27.640625 41.28125 31.265625 \r\nQ 36.765625 34.90625 28.71875 34.90625 \r\nL 20.21875 34.90625 \r\nL 20.21875 43.015625 \r\nL 29.109375 43.015625 \r\nQ 36.375 43.015625 40.234375 45.921875 \r\nQ 44.09375 48.828125 44.09375 54.296875 \r\nQ 44.09375 59.90625 40.109375 62.90625 \r\nQ 36.140625 65.921875 28.71875 65.921875 \r\nQ 24.65625 65.921875 20.015625 65.03125 \r\nQ 15.375 64.15625 9.8125 62.3125 \r\nL 9.8125 71.09375 \r\nQ 15.4375 72.65625 20.34375 73.4375 \r\nQ 25.25 74.21875 29.59375 74.21875 \r\nQ 40.828125 74.21875 47.359375 69.109375 \r\nQ 53.90625 64.015625 53.90625 55.328125 \r\nQ 53.90625 49.265625 50.4375 45.09375 \r\nQ 46.96875 40.921875 40.578125 39.3125 \r\nz\r\n\" id=\"DejaVuSans-51\"/>\r\n       </defs>\r\n       <use xlink:href=\"#DejaVuSans-51\"/>\r\n       <use x=\"63.623047\" xlink:href=\"#DejaVuSans-48\"/>\r\n      </g>\r\n     </g>\r\n    </g>\r\n    <g id=\"xtick_5\">\r\n     <g id=\"line2d_5\">\r\n      <g>\r\n       <use style=\"stroke:#000000;stroke-width:0.8;\" x=\"306.506418\" xlink:href=\"#md996425811\" y=\"224.64\"/>\r\n      </g>\r\n     </g>\r\n     <g id=\"text_5\">\r\n      <!-- 40 -->\r\n      <g transform=\"translate(300.143918 239.238438)scale(0.1 -0.1)\">\r\n       <defs>\r\n        <path d=\"M 37.796875 64.3125 \r\nL 12.890625 25.390625 \r\nL 37.796875 25.390625 \r\nz\r\nM 35.203125 72.90625 \r\nL 47.609375 72.90625 \r\nL 47.609375 25.390625 \r\nL 58.015625 25.390625 \r\nL 58.015625 17.1875 \r\nL 47.609375 17.1875 \r\nL 47.609375 0 \r\nL 37.796875 0 \r\nL 37.796875 17.1875 \r\nL 4.890625 17.1875 \r\nL 4.890625 26.703125 \r\nz\r\n\" id=\"DejaVuSans-52\"/>\r\n       </defs>\r\n       <use xlink:href=\"#DejaVuSans-52\"/>\r\n       <use x=\"63.623047\" xlink:href=\"#DejaVuSans-48\"/>\r\n      </g>\r\n     </g>\r\n    </g>\r\n    <g id=\"xtick_6\">\r\n     <g id=\"line2d_6\">\r\n      <g>\r\n       <use style=\"stroke:#000000;stroke-width:0.8;\" x=\"368.621446\" xlink:href=\"#md996425811\" y=\"224.64\"/>\r\n      </g>\r\n     </g>\r\n     <g id=\"text_6\">\r\n      <!-- 50 -->\r\n      <g transform=\"translate(362.258946 239.238438)scale(0.1 -0.1)\">\r\n       <defs>\r\n        <path d=\"M 10.796875 72.90625 \r\nL 49.515625 72.90625 \r\nL 49.515625 64.59375 \r\nL 19.828125 64.59375 \r\nL 19.828125 46.734375 \r\nQ 21.96875 47.46875 24.109375 47.828125 \r\nQ 26.265625 48.1875 28.421875 48.1875 \r\nQ 40.625 48.1875 47.75 41.5 \r\nQ 54.890625 34.8125 54.890625 23.390625 \r\nQ 54.890625 11.625 47.5625 5.09375 \r\nQ 40.234375 -1.421875 26.90625 -1.421875 \r\nQ 22.3125 -1.421875 17.546875 -0.640625 \r\nQ 12.796875 0.140625 7.71875 1.703125 \r\nL 7.71875 11.625 \r\nQ 12.109375 9.234375 16.796875 8.0625 \r\nQ 21.484375 6.890625 26.703125 6.890625 \r\nQ 35.15625 6.890625 40.078125 11.328125 \r\nQ 45.015625 15.765625 45.015625 23.390625 \r\nQ 45.015625 31 40.078125 35.4375 \r\nQ 35.15625 39.890625 26.703125 39.890625 \r\nQ 22.75 39.890625 18.8125 39.015625 \r\nQ 14.890625 38.140625 10.796875 36.28125 \r\nz\r\n\" id=\"DejaVuSans-53\"/>\r\n       </defs>\r\n       <use xlink:href=\"#DejaVuSans-53\"/>\r\n       <use x=\"63.623047\" xlink:href=\"#DejaVuSans-48\"/>\r\n      </g>\r\n     </g>\r\n    </g>\r\n   </g>\r\n   <g id=\"matplotlib.axis_2\">\r\n    <g id=\"ytick_1\">\r\n     <g id=\"line2d_7\">\r\n      <defs>\r\n       <path d=\"M 0 0 \r\nL -3.5 0 \r\n\" id=\"md589244ab9\" style=\"stroke:#000000;stroke-width:0.8;\"/>\r\n      </defs>\r\n      <g>\r\n       <use style=\"stroke:#000000;stroke-width:0.8;\" x=\"42.828125\" xlink:href=\"#md589244ab9\" y=\"216.698837\"/>\r\n      </g>\r\n     </g>\r\n     <g id=\"text_7\">\r\n      <!-- 1.105 -->\r\n      <g transform=\"translate(7.2 220.498056)scale(0.1 -0.1)\">\r\n       <defs>\r\n        <path d=\"M 10.6875 12.40625 \r\nL 21 12.40625 \r\nL 21 0 \r\nL 10.6875 0 \r\nz\r\n\" id=\"DejaVuSans-46\"/>\r\n       </defs>\r\n       <use xlink:href=\"#DejaVuSans-49\"/>\r\n       <use x=\"63.623047\" xlink:href=\"#DejaVuSans-46\"/>\r\n       <use x=\"95.410156\" xlink:href=\"#DejaVuSans-49\"/>\r\n       <use x=\"159.033203\" xlink:href=\"#DejaVuSans-48\"/>\r\n       <use x=\"222.65625\" xlink:href=\"#DejaVuSans-53\"/>\r\n      </g>\r\n     </g>\r\n    </g>\r\n    <g id=\"ytick_2\">\r\n     <g id=\"line2d_8\">\r\n      <g>\r\n       <use style=\"stroke:#000000;stroke-width:0.8;\" x=\"42.828125\" xlink:href=\"#md589244ab9\" y=\"182.918584\"/>\r\n      </g>\r\n     </g>\r\n     <g id=\"text_8\">\r\n      <!-- 1.110 -->\r\n      <g transform=\"translate(7.2 186.717803)scale(0.1 -0.1)\">\r\n       <use xlink:href=\"#DejaVuSans-49\"/>\r\n       <use x=\"63.623047\" xlink:href=\"#DejaVuSans-46\"/>\r\n       <use x=\"95.410156\" xlink:href=\"#DejaVuSans-49\"/>\r\n       <use x=\"159.033203\" xlink:href=\"#DejaVuSans-49\"/>\r\n       <use x=\"222.65625\" xlink:href=\"#DejaVuSans-48\"/>\r\n      </g>\r\n     </g>\r\n    </g>\r\n    <g id=\"ytick_3\">\r\n     <g id=\"line2d_9\">\r\n      <g>\r\n       <use style=\"stroke:#000000;stroke-width:0.8;\" x=\"42.828125\" xlink:href=\"#md589244ab9\" y=\"149.138331\"/>\r\n      </g>\r\n     </g>\r\n     <g id=\"text_9\">\r\n      <!-- 1.115 -->\r\n      <g transform=\"translate(7.2 152.93755)scale(0.1 -0.1)\">\r\n       <use xlink:href=\"#DejaVuSans-49\"/>\r\n       <use x=\"63.623047\" xlink:href=\"#DejaVuSans-46\"/>\r\n       <use x=\"95.410156\" xlink:href=\"#DejaVuSans-49\"/>\r\n       <use x=\"159.033203\" xlink:href=\"#DejaVuSans-49\"/>\r\n       <use x=\"222.65625\" xlink:href=\"#DejaVuSans-53\"/>\r\n      </g>\r\n     </g>\r\n    </g>\r\n    <g id=\"ytick_4\">\r\n     <g id=\"line2d_10\">\r\n      <g>\r\n       <use style=\"stroke:#000000;stroke-width:0.8;\" x=\"42.828125\" xlink:href=\"#md589244ab9\" y=\"115.358078\"/>\r\n      </g>\r\n     </g>\r\n     <g id=\"text_10\">\r\n      <!-- 1.120 -->\r\n      <g transform=\"translate(7.2 119.157297)scale(0.1 -0.1)\">\r\n       <use xlink:href=\"#DejaVuSans-49\"/>\r\n       <use x=\"63.623047\" xlink:href=\"#DejaVuSans-46\"/>\r\n       <use x=\"95.410156\" xlink:href=\"#DejaVuSans-49\"/>\r\n       <use x=\"159.033203\" xlink:href=\"#DejaVuSans-50\"/>\r\n       <use x=\"222.65625\" xlink:href=\"#DejaVuSans-48\"/>\r\n      </g>\r\n     </g>\r\n    </g>\r\n    <g id=\"ytick_5\">\r\n     <g id=\"line2d_11\">\r\n      <g>\r\n       <use style=\"stroke:#000000;stroke-width:0.8;\" x=\"42.828125\" xlink:href=\"#md589244ab9\" y=\"81.577825\"/>\r\n      </g>\r\n     </g>\r\n     <g id=\"text_11\">\r\n      <!-- 1.125 -->\r\n      <g transform=\"translate(7.2 85.377043)scale(0.1 -0.1)\">\r\n       <use xlink:href=\"#DejaVuSans-49\"/>\r\n       <use x=\"63.623047\" xlink:href=\"#DejaVuSans-46\"/>\r\n       <use x=\"95.410156\" xlink:href=\"#DejaVuSans-49\"/>\r\n       <use x=\"159.033203\" xlink:href=\"#DejaVuSans-50\"/>\r\n       <use x=\"222.65625\" xlink:href=\"#DejaVuSans-53\"/>\r\n      </g>\r\n     </g>\r\n    </g>\r\n    <g id=\"ytick_6\">\r\n     <g id=\"line2d_12\">\r\n      <g>\r\n       <use style=\"stroke:#000000;stroke-width:0.8;\" x=\"42.828125\" xlink:href=\"#md589244ab9\" y=\"47.797572\"/>\r\n      </g>\r\n     </g>\r\n     <g id=\"text_12\">\r\n      <!-- 1.130 -->\r\n      <g transform=\"translate(7.2 51.59679)scale(0.1 -0.1)\">\r\n       <use xlink:href=\"#DejaVuSans-49\"/>\r\n       <use x=\"63.623047\" xlink:href=\"#DejaVuSans-46\"/>\r\n       <use x=\"95.410156\" xlink:href=\"#DejaVuSans-49\"/>\r\n       <use x=\"159.033203\" xlink:href=\"#DejaVuSans-51\"/>\r\n       <use x=\"222.65625\" xlink:href=\"#DejaVuSans-48\"/>\r\n      </g>\r\n     </g>\r\n    </g>\r\n    <g id=\"ytick_7\">\r\n     <g id=\"line2d_13\">\r\n      <g>\r\n       <use style=\"stroke:#000000;stroke-width:0.8;\" x=\"42.828125\" xlink:href=\"#md589244ab9\" y=\"14.017319\"/>\r\n      </g>\r\n     </g>\r\n     <g id=\"text_13\">\r\n      <!-- 1.135 -->\r\n      <g transform=\"translate(7.2 17.816537)scale(0.1 -0.1)\">\r\n       <use xlink:href=\"#DejaVuSans-49\"/>\r\n       <use x=\"63.623047\" xlink:href=\"#DejaVuSans-46\"/>\r\n       <use x=\"95.410156\" xlink:href=\"#DejaVuSans-49\"/>\r\n       <use x=\"159.033203\" xlink:href=\"#DejaVuSans-51\"/>\r\n       <use x=\"222.65625\" xlink:href=\"#DejaVuSans-53\"/>\r\n      </g>\r\n     </g>\r\n    </g>\r\n   </g>\r\n   <g id=\"line2d_14\">\r\n    <path clip-path=\"url(#pa861bb35e6)\" d=\"M 58.046307 17.083636 \r\nL 64.25781 17.083636 \r\nL 70.469312 19.286605 \r\nL 76.680815 23.245869 \r\nL 82.892318 28.569564 \r\nL 89.103821 34.920193 \r\nL 95.315324 42.011773 \r\nL 101.526826 49.605576 \r\nL 107.738329 57.505176 \r\nL 113.949832 65.551292 \r\nL 120.161335 73.616737 \r\nL 126.372837 81.601676 \r\nL 132.58434 89.429297 \r\nL 138.795843 97.041958 \r\nL 145.007346 104.397799 \r\nL 151.218849 111.467824 \r\nL 157.430351 118.233407 \r\nL 163.641854 124.684184 \r\nL 169.853357 130.816296 \r\nL 176.06486 136.63093 \r\nL 182.276362 142.133115 \r\nL 188.487865 147.330747 \r\nL 194.699368 152.233799 \r\nL 200.910871 156.853682 \r\nL 207.122374 161.202741 \r\nL 213.333876 165.29386 \r\nL 219.545379 169.14015 \r\nL 225.756882 172.754711 \r\nL 231.968385 176.150455 \r\nL 238.179888 179.339968 \r\nL 244.39139 182.335422 \r\nL 250.602893 185.148501 \r\nL 256.814396 187.790365 \r\nL 263.025899 190.271622 \r\nL 269.237401 192.602318 \r\nL 275.448904 194.791942 \r\nL 281.660407 196.849429 \r\nL 287.87191 198.783177 \r\nL 294.083413 200.601068 \r\nL 300.294915 202.310485 \r\nL 306.506418 203.918339 \r\nL 312.717921 205.431094 \r\nL 318.929424 206.854787 \r\nL 325.140926 208.19506 \r\nL 331.352429 209.457176 \r\nL 337.563932 210.646051 \r\nL 343.775435 211.766269 \r\nL 349.986938 212.82211 \r\nL 356.19844 213.817566 \r\nL 362.409943 214.756364 \r\n\" style=\"fill:none;stroke:#1f77b4;stroke-linecap:square;stroke-width:1.5;\"/>\r\n   </g>\r\n   <g id=\"patch_3\">\r\n    <path d=\"M 42.828125 224.64 \r\nL 42.828125 7.2 \r\n\" style=\"fill:none;stroke:#000000;stroke-linecap:square;stroke-linejoin:miter;stroke-width:0.8;\"/>\r\n   </g>\r\n   <g id=\"patch_4\">\r\n    <path d=\"M 377.628125 224.64 \r\nL 377.628125 7.2 \r\n\" style=\"fill:none;stroke:#000000;stroke-linecap:square;stroke-linejoin:miter;stroke-width:0.8;\"/>\r\n   </g>\r\n   <g id=\"patch_5\">\r\n    <path d=\"M 42.828125 224.64 \r\nL 377.628125 224.64 \r\n\" style=\"fill:none;stroke:#000000;stroke-linecap:square;stroke-linejoin:miter;stroke-width:0.8;\"/>\r\n   </g>\r\n   <g id=\"patch_6\">\r\n    <path d=\"M 42.828125 7.2 \r\nL 377.628125 7.2 \r\n\" style=\"fill:none;stroke:#000000;stroke-linecap:square;stroke-linejoin:miter;stroke-width:0.8;\"/>\r\n   </g>\r\n  </g>\r\n </g>\r\n <defs>\r\n  <clipPath id=\"pa861bb35e6\">\r\n   <rect height=\"217.44\" width=\"334.8\" x=\"42.828125\" y=\"7.2\"/>\r\n  </clipPath>\r\n </defs>\r\n</svg>\r\n",
      "image/png": "[encoded data removed]"
     },
     "metadata": {
      "needs_background": "light"
     }
    }
   ],
   "source": [
    "plt.plot(losses)"
   ]
  },
  {
   "cell_type": "code",
   "execution_count": 56,
   "metadata": {},
   "outputs": [],
   "source": [
    "# Calculates accuracy of test data\n",
    "def accuracy(y, y_pred):\n",
    "\n",
    "    total_correct = 0\n",
    "    confusion_matrix = np.zeros(shape=(CLASS_NUMBER, CLASS_NUMBER))\n",
    "\n",
    "    numData = y.shape[1]\n",
    "    \n",
    "    # Iterating through all of data\n",
    "    for data in range(numData):\n",
    "        # Returns array for index of max probabilities for each data point \n",
    "        y_indexes = np.argmax(y, axis=0)\n",
    "        y_pred_indexes = np.argmax(y_pred, axis=0)\n",
    "        \n",
    "        confusion_matrix[y_indexes[data]][y_pred_indexes[data]] += 1\n",
    "        total_correct = np.sum(y_indexes == y_pred_indexes)\n",
    "        \n",
    "    total_accuracy = total_correct/numData\n",
    "    return confusion_matrix, total_accuracy \n"
   ]
  },
  {
   "cell_type": "code",
   "execution_count": 57,
   "metadata": {},
   "outputs": [
    {
     "output_type": "stream",
     "name": "stdout",
     "text": [
      "[[3. 1. 1.]\n [1. 2. 8.]\n [5. 3. 6.]]\n0.36666666666666664\n"
     ]
    }
   ],
   "source": [
    "# Accuracy and confusion matrix check\n",
    "z = class_corr(w, b, x_test)\n",
    "y_pred = softmax(z)\n",
    "\n",
    "confusion_matrix, model_acc = accuracy(y_test, y_pred)\n",
    "\n",
    "print(confusion_matrix)\n",
    "print(model_acc)\n"
   ]
  }
 ]
}