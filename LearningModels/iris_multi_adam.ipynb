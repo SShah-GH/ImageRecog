{
 "metadata": {
  "language_info": {
   "codemirror_mode": {
    "name": "ipython",
    "version": 3
   },
   "file_extension": ".py",
   "mimetype": "text/x-python",
   "name": "python",
   "nbconvert_exporter": "python",
   "pygments_lexer": "ipython3",
   "version": "3.8.5-final"
  },
  "orig_nbformat": 2,
  "kernelspec": {
   "name": "python3",
   "display_name": "Python 3.8.5 64-bit",
   "metadata": {
    "interpreter": {
     "hash": "0adcc2737ebf6a4a119f135174df96668767fca1ef1112612db5ecadf2b6d608"
    }
   }
  }
 },
 "nbformat": 4,
 "nbformat_minor": 2,
 "cells": [
  {
   "cell_type": "code",
   "execution_count": 168,
   "metadata": {},
   "outputs": [],
   "source": [
    "# Import needed libraries\n",
    "import pandas as pd\n",
    "import numpy as np\n",
    "import matplotlib.pyplot as plt"
   ]
  },
  {
   "cell_type": "code",
   "execution_count": 169,
   "metadata": {},
   "outputs": [],
   "source": [
    "#Defines Global Variables data entries\n",
    "TOTAL_DATA = 150\n",
    "\n",
    "# Splits data into training(80%) and testing(20%)\n",
    "TRAINING_DATA = int(TOTAL_DATA*0.8) \n",
    "TESTING_DATA = int(TOTAL_DATA*0.2)\n",
    "\n",
    "# Number of input features\n",
    "FEATURE_NUMBER = 4\n",
    "\n",
    "# Number of classes and respective indexing\n",
    "CLASS_NUMBER = 3\n",
    "CLASSNAMES = ['Iris-setosa', 'Iris-versicolor', 'Iris-virginica']"
   ]
  },
  {
   "cell_type": "code",
   "execution_count": 170,
   "metadata": {},
   "outputs": [
    {
     "output_type": "execute_result",
     "data": {
      "text/plain": [
       "      Id  SepalLengthCm  SepalWidthCm  PetalLengthCm  PetalWidthCm  \\\n",
       "59    60            5.2           2.7            3.9           1.4   \n",
       "128  129            6.4           2.8            5.6           2.1   \n",
       "17    18            5.1           3.5            1.4           0.3   \n",
       "139  140            6.9           3.1            5.4           2.1   \n",
       "49    50            5.0           3.3            1.4           0.2   \n",
       "\n",
       "             Species  \n",
       "59   Iris-versicolor  \n",
       "128   Iris-virginica  \n",
       "17       Iris-setosa  \n",
       "139   Iris-virginica  \n",
       "49       Iris-setosa  "
      ],
      "text/html": "<div>\n<style scoped>\n    .dataframe tbody tr th:only-of-type {\n        vertical-align: middle;\n    }\n\n    .dataframe tbody tr th {\n        vertical-align: top;\n    }\n\n    .dataframe thead th {\n        text-align: right;\n    }\n</style>\n<table border=\"1\" class=\"dataframe\">\n  <thead>\n    <tr style=\"text-align: right;\">\n      <th></th>\n      <th>Id</th>\n      <th>SepalLengthCm</th>\n      <th>SepalWidthCm</th>\n      <th>PetalLengthCm</th>\n      <th>PetalWidthCm</th>\n      <th>Species</th>\n    </tr>\n  </thead>\n  <tbody>\n    <tr>\n      <th>59</th>\n      <td>60</td>\n      <td>5.2</td>\n      <td>2.7</td>\n      <td>3.9</td>\n      <td>1.4</td>\n      <td>Iris-versicolor</td>\n    </tr>\n    <tr>\n      <th>128</th>\n      <td>129</td>\n      <td>6.4</td>\n      <td>2.8</td>\n      <td>5.6</td>\n      <td>2.1</td>\n      <td>Iris-virginica</td>\n    </tr>\n    <tr>\n      <th>17</th>\n      <td>18</td>\n      <td>5.1</td>\n      <td>3.5</td>\n      <td>1.4</td>\n      <td>0.3</td>\n      <td>Iris-setosa</td>\n    </tr>\n    <tr>\n      <th>139</th>\n      <td>140</td>\n      <td>6.9</td>\n      <td>3.1</td>\n      <td>5.4</td>\n      <td>2.1</td>\n      <td>Iris-virginica</td>\n    </tr>\n    <tr>\n      <th>49</th>\n      <td>50</td>\n      <td>5.0</td>\n      <td>3.3</td>\n      <td>1.4</td>\n      <td>0.2</td>\n      <td>Iris-setosa</td>\n    </tr>\n  </tbody>\n</table>\n</div>"
     },
     "metadata": {},
     "execution_count": 170
    }
   ],
   "source": [
    "# Read in data\n",
    "data = pd.read_csv('../DataSets/Iris.csv')\n",
    "\n",
    "#Splits into 2 classes instead of 3\n",
    "#data = data[0:100]\n",
    "\n",
    "# Shuffle data\n",
    "data = data.sample(frac = 1)\n",
    "\n",
    "data.head()"
   ]
  },
  {
   "cell_type": "code",
   "execution_count": 171,
   "metadata": {},
   "outputs": [],
   "source": [
    "# Pulling feature data and splicing it for training/testing using 80-20 ratio\n",
    "x_train = data.iloc[:TRAINING_DATA, 1:FEATURE_NUMBER+1].values\n",
    "x_test = data.iloc[TRAINING_DATA:, 1:FEATURE_NUMBER+1].values\n",
    "\n",
    "# Standardizes the data by dividing the entries by standard deviation (i.e calculating how many standard deviations the entries are from the center)\n",
    "x_train = (x_train - np.mean(x_train, axis=0)) / np.std(x_train, axis=0)\n",
    "x_test = (x_test - np.mean(x_test, axis=0)) / np.std(x_test, axis=0)\n",
    "\n",
    "# Reshape for matrix multiplication\n",
    "x_train = x_train.reshape(FEATURE_NUMBER, TRAINING_DATA)\n",
    "x_test = x_test.reshape(FEATURE_NUMBER, TESTING_DATA)\n",
    "\n"
   ]
  },
  {
   "cell_type": "code",
   "execution_count": 172,
   "metadata": {},
   "outputs": [],
   "source": [
    "# Pulling label data and splicing it for training/testing using 80-20 ratio\n",
    "y_train_data = data.iloc[:TRAINING_DATA, -1].values\n",
    "y_test_data = data.iloc[TRAINING_DATA:, -1].values\n",
    "\n",
    "# Create vectorized representations of each data point's class membership\n",
    "y_train = np.zeros(shape=(CLASS_NUMBER, TRAINING_DATA))\n",
    "y_test = np.zeros(shape=(CLASS_NUMBER, TESTING_DATA))\n",
    "\n",
    "# Setting numeric labels for each data point's class\n",
    "for row in range(CLASS_NUMBER):\n",
    "    y_train[row, :TRAINING_DATA]  = [ele == CLASSNAMES[row] for ele in y_train_data]\n",
    "    y_test[row, :TESTING_DATA] = [ele == CLASSNAMES[row] for ele in y_test_data]"
   ]
  },
  {
   "cell_type": "code",
   "execution_count": 173,
   "metadata": {},
   "outputs": [],
   "source": [
    "# Randomly initialize weights and bias matricies\n",
    "w = np.random.rand(CLASS_NUMBER, FEATURE_NUMBER)\n",
    "b = np.random.rand(CLASS_NUMBER, 1)\n",
    "\n"
   ]
  },
  {
   "cell_type": "code",
   "execution_count": 174,
   "metadata": {},
   "outputs": [
    {
     "output_type": "stream",
     "name": "stdout",
     "text": [
      "[[ 1.55239793  0.96203244  1.85484239  1.56272328 -1.46891664  1.11123492\n  -2.01428101 -2.04481711 -0.21907261  0.0591456  -0.97064525 -1.18200055\n   1.02188323  0.50066872  1.17623142  1.84877527 -2.49306751 -1.28832257\n  -1.34517114 -1.84144273  1.71222451  0.97296193  1.3946021   1.84229409\n   2.31203711  2.4597746   2.6211311   1.08714757  2.6250767   1.38317481]\n [ 1.57664133  0.71980666  1.6461098   1.22867281 -0.19706569  1.24170359\n  -0.54318529 -0.48667126 -0.14370954  0.70595594 -0.46786132 -0.49144829\n   1.37381361  1.15332373  1.43926326  2.08348895 -0.98104994 -0.56415705\n  -0.02053482 -0.40118278  2.00624518  1.40958907  1.41146346  1.64991596\n   2.4940995   2.45682857  2.49889896  1.4560263   2.13679394  1.31392276]\n [ 2.16296881  2.73373228  1.64023932  0.98888342 -0.09918621  1.51522126\n  -1.35429641  0.12071124 -0.36639444 -0.6878088  -0.71155706 -1.00361934\n   0.74816671  0.41486349  0.71963672  2.34028947 -1.55523427 -0.58447749\n   0.23699144 -1.07827199  1.39891901  0.95139975  0.87168735  0.67209241\n   1.31971962  1.54784921  1.78495149  0.99381041  1.41896479  0.52747667]]\n"
     ]
    }
   ],
   "source": [
    "#Class coresspondance function, returns a vector (z), which will be input into softmax function\n",
    "#The highest number in z represents the correct class\n",
    "def class_corr(weights, bias, x):\n",
    "    \n",
    "    numData = x.shape[1]\n",
    "    #print(numData)\n",
    "    z = weights.dot(x)\n",
    "    #print(z)\n",
    "    for input in range(numData):\n",
    "        z[0:CLASS_NUMBER, input:input+1] += bias\n",
    "\n",
    "    return z\n",
    "\n",
    "z = class_corr(w, b, x_test)\n",
    "print(z)\n",
    "\n"
   ]
  },
  {
   "cell_type": "code",
   "execution_count": 175,
   "metadata": {},
   "outputs": [
    {
     "output_type": "stream",
     "name": "stdout",
     "text": [
      "[[0.25866381 0.13045089 0.38190184 0.43871662 0.11762299 0.27494087\n  0.13719744 0.06911226 0.33998667 0.29557396 0.25322446 0.23865791\n  0.31423248 0.26052479 0.34079618 0.25645389 0.1236046  0.19667542\n  0.10388225 0.13574304 0.32543204 0.28359562 0.38317193 0.46831844\n  0.38904366 0.41687367 0.43134946 0.29788514 0.52272869 0.42407421]\n [0.26501134 0.10238815 0.30995621 0.31412884 0.41961408 0.31325724\n  0.5973581  0.32828363 0.36659932 0.56438092 0.41866045 0.47607884\n  0.44677874 0.5003726  0.4433309  0.32429791 0.56065478 0.40574313\n  0.39068216 0.57307905 0.4366685  0.43885825 0.38968751 0.38636031\n  0.46673141 0.41564736 0.38171965 0.43077535 0.32078779 0.39570002]\n [0.47632485 0.76716096 0.30814195 0.24715454 0.46276294 0.41180189\n  0.26544446 0.60260411 0.293414   0.14004512 0.3281151  0.28526325\n  0.23898877 0.23910261 0.21587292 0.4192482  0.31574061 0.39758145\n  0.50543559 0.29117791 0.23789946 0.27754613 0.22714056 0.14532125\n  0.14422493 0.16747898 0.18693089 0.27133951 0.15648351 0.18022577]]\n"
     ]
    }
   ],
   "source": [
    "#Softmax Function\n",
    "#expnentiates all elements of the z vector and divides by their sum to see class probability\n",
    "def softmax(z):\n",
    "\n",
    "    #creates empty probability array\n",
    "    y_hat = np.empty([z.shape[0], z.shape[1]])\n",
    "    numData = z.shape[1]\n",
    "\n",
    "    #exponentiates the matrix\n",
    "    z_exp = np.exp(z)\n",
    "\n",
    "    #Converts z vector into probability distribution\n",
    "    for input in range(numData):\n",
    "        z_sum = np.sum(z_exp[0:CLASS_NUMBER, input:input+1])\n",
    "        y_hat[0:CLASS_NUMBER, input:input+1] = z_exp[0:CLASS_NUMBER, input:input+1]/z_sum\n",
    "    return y_hat\n",
    "\n",
    "\n",
    "y_pred = softmax(z)\n",
    "print(softmax(z))\n"
   ]
  },
  {
   "cell_type": "code",
   "execution_count": 176,
   "metadata": {},
   "outputs": [
    {
     "output_type": "execute_result",
     "data": {
      "text/plain": [
       "1.2162926310000468"
      ]
     },
     "metadata": {},
     "execution_count": 176
    }
   ],
   "source": [
    "#Loss function\n",
    "#Returns the sum of all probabilities compared to the actual class\n",
    "def cost(y, y_pred):\n",
    "\n",
    "    total_loss = 0\n",
    "\n",
    "    #Finds number of data samples\n",
    "    numData = y.shape[1]\n",
    "\n",
    "    #Manipulates y_pred into right form for the loss function\n",
    "    y_pred = -1*np.log(y_pred)\n",
    "\n",
    "    #iterates over all data samples\n",
    "    for column in range(numData):\n",
    "\n",
    "        #Computes total class loss for each data sample and sums them\n",
    "        y_cur = y[0:CLASS_NUMBER, column:column+1].transpose()\n",
    "        y_pred_cur = (y_pred[0:CLASS_NUMBER, column:column+1])\n",
    "        total_loss += y_cur.dot(y_pred_cur)[0][0]\n",
    "\n",
    "    #Divdes by number of data samples to find average error\n",
    "    total_loss = total_loss/numData\n",
    "    return total_loss\n",
    "    \n",
    "    \n",
    "\n",
    "        \n",
    "\n",
    "\n",
    "\n",
    "cost(y_test, y_pred)"
   ]
  },
  {
   "cell_type": "code",
   "execution_count": 177,
   "metadata": {},
   "outputs": [
    {
     "output_type": "execute_result",
     "data": {
      "text/plain": [
       "{'gradWeights': array([[ 0.14204137, -0.17214938,  0.03010801],\n",
       "        [-0.04855074,  0.07820301, -0.02965228],\n",
       "        [ 0.26726218, -0.08468202, -0.18258016],\n",
       "        [ 0.04421095,  0.09238957, -0.13660051]]),\n",
       " 'gradBias': array([[ 0.02034784,  0.10611975, -0.12646759]])}"
      ]
     },
     "metadata": {},
     "execution_count": 177
    }
   ],
   "source": [
    "# Take the gradients of the loss with respect to weights and bias\n",
    "def findGradients(x, y, y_pred):\n",
    "    # Number of data samples\n",
    "    numData = x.shape[1]\n",
    "\n",
    "    # Calculate error for gradient computations\n",
    "    error = y_pred - y\n",
    "    error = error.transpose()\n",
    "    \n",
    "\n",
    "    # Dictionary for holding gradient values\n",
    "    gradientDict = dict()\n",
    "    gradientDict['gradWeights'] = np.array((1/numData) * x.dot(error))\n",
    "    gradientDict['gradBias'] =  ((1/numData) * error.sum(axis=0)).reshape(1, CLASS_NUMBER)\n",
    "    \n",
    "    return gradientDict\n",
    "\n",
    "y_pred = softmax(z)\n",
    "findGradients(x_test, y_test, y_pred)"
   ]
  },
  {
   "cell_type": "code",
   "execution_count": 178,
   "metadata": {},
   "outputs": [],
   "source": [
    "# Repetitively perform gradient descent to improve model \n",
    "def gradientDescent(x, y, weights, bias, losses, max_iter, learning_rate, coeff_momentum):\n",
    "    old_weights = np.zeros(shape=(FEATURE_NUMBER, CLASS_NUMBER))\n",
    "    old_bias = np.zeros(shape=(1, CLASS_NUMBER))\n",
    "\n",
    "    for i in range(max_iter): \n",
    "        z = class_corr(weights, bias, x)\n",
    "        #print(z.shape)\n",
    "        y_pred = softmax(z)\n",
    "        gradients = findGradients(x, y, y_pred)\n",
    "\n",
    "        momentum_weights = coeff_momentum * old_weights\n",
    "        momentum_bias = coeff_momentum * old_bias\n",
    "\n",
    "        # Compute gradient descent\n",
    "        weights = weights - momentum_weights.transpose() - ((learning_rate * gradients[\"gradWeights\"]).transpose())\n",
    "        bias = bias - momentum_bias.transpose() - ((learning_rate * gradients[\"gradBias\"].transpose()))\n",
    "       \n",
    "        old_weights = gradients[\"gradWeights\"]\n",
    "        old_bias = gradients[\"gradBias\"]\n",
    "\n",
    "        # Not required - meant to visualize model's performance\n",
    "        loss = cost(y, y_pred)\n",
    "        losses.append(loss)\n",
    "\n",
    "        learning_rate *= 0.95\n",
    "\n",
    "    return weights, bias\n"
   ]
  },
  {
   "cell_type": "code",
   "execution_count": 179,
   "metadata": {},
   "outputs": [],
   "source": [
    "# List for storing log loss over time\n",
    "losses = []\n",
    "\n",
    "w, b = gradientDescent(x_train, y_train, w, b, losses, max_iter=50, learning_rate=0.1, coeff_momentum=0.75)\n",
    "\n",
    "#print(w)\n",
    "#print(b)"
   ]
  },
  {
   "cell_type": "code",
   "execution_count": 180,
   "metadata": {},
   "outputs": [
    {
     "output_type": "execute_result",
     "data": {
      "text/plain": [
       "[<matplotlib.lines.Line2D at 0x7fc8f5885160>]"
      ]
     },
     "metadata": {},
     "execution_count": 180
    },
    {
     "output_type": "display_data",
     "data": {
      "text/plain": "<Figure size 432x288 with 1 Axes>",
      "image/svg+xml": "<?xml version=\"1.0\" encoding=\"utf-8\" standalone=\"no\"?>\n<!DOCTYPE svg PUBLIC \"-//W3C//DTD SVG 1.1//EN\"\n  \"http://www.w3.org/Graphics/SVG/1.1/DTD/svg11.dtd\">\n<!-- Created with matplotlib (https://matplotlib.org/) -->\n<svg height=\"248.518125pt\" version=\"1.1\" viewBox=\"0 0 378.465625 248.518125\" width=\"378.465625pt\" xmlns=\"http://www.w3.org/2000/svg\" xmlns:xlink=\"http://www.w3.org/1999/xlink\">\n <metadata>\n  <rdf:RDF xmlns:cc=\"http://creativecommons.org/ns#\" xmlns:dc=\"http://purl.org/dc/elements/1.1/\" xmlns:rdf=\"http://www.w3.org/1999/02/22-rdf-syntax-ns#\">\n   <cc:Work>\n    <dc:type rdf:resource=\"http://purl.org/dc/dcmitype/StillImage\"/>\n    <dc:date>2020-12-30T11:32:35.225483</dc:date>\n    <dc:format>image/svg+xml</dc:format>\n    <dc:creator>\n     <cc:Agent>\n      <dc:title>Matplotlib v3.3.3, https://matplotlib.org/</dc:title>\n     </cc:Agent>\n    </dc:creator>\n   </cc:Work>\n  </rdf:RDF>\n </metadata>\n <defs>\n  <style type=\"text/css\">*{stroke-linecap:butt;stroke-linejoin:round;}</style>\n </defs>\n <g id=\"figure_1\">\n  <g id=\"patch_1\">\n   <path d=\"M 0 248.518125 \nL 378.465625 248.518125 \nL 378.465625 0 \nL 0 0 \nz\n\" style=\"fill:none;\"/>\n  </g>\n  <g id=\"axes_1\">\n   <g id=\"patch_2\">\n    <path d=\"M 36.465625 224.64 \nL 371.265625 224.64 \nL 371.265625 7.2 \nL 36.465625 7.2 \nz\n\" style=\"fill:#ffffff;\"/>\n   </g>\n   <g id=\"matplotlib.axis_1\">\n    <g id=\"xtick_1\">\n     <g id=\"line2d_1\">\n      <defs>\n       <path d=\"M 0 0 \nL 0 3.5 \n\" id=\"m8532be3c4f\" style=\"stroke:#000000;stroke-width:0.8;\"/>\n      </defs>\n      <g>\n       <use style=\"stroke:#000000;stroke-width:0.8;\" x=\"51.683807\" xlink:href=\"#m8532be3c4f\" y=\"224.64\"/>\n      </g>\n     </g>\n     <g id=\"text_1\">\n      <!-- 0 -->\n      <g transform=\"translate(48.502557 239.238438)scale(0.1 -0.1)\">\n       <defs>\n        <path d=\"M 31.78125 66.40625 \nQ 24.171875 66.40625 20.328125 58.90625 \nQ 16.5 51.421875 16.5 36.375 \nQ 16.5 21.390625 20.328125 13.890625 \nQ 24.171875 6.390625 31.78125 6.390625 \nQ 39.453125 6.390625 43.28125 13.890625 \nQ 47.125 21.390625 47.125 36.375 \nQ 47.125 51.421875 43.28125 58.90625 \nQ 39.453125 66.40625 31.78125 66.40625 \nz\nM 31.78125 74.21875 \nQ 44.046875 74.21875 50.515625 64.515625 \nQ 56.984375 54.828125 56.984375 36.375 \nQ 56.984375 17.96875 50.515625 8.265625 \nQ 44.046875 -1.421875 31.78125 -1.421875 \nQ 19.53125 -1.421875 13.0625 8.265625 \nQ 6.59375 17.96875 6.59375 36.375 \nQ 6.59375 54.828125 13.0625 64.515625 \nQ 19.53125 74.21875 31.78125 74.21875 \nz\n\" id=\"DejaVuSans-48\"/>\n       </defs>\n       <use xlink:href=\"#DejaVuSans-48\"/>\n      </g>\n     </g>\n    </g>\n    <g id=\"xtick_2\">\n     <g id=\"line2d_2\">\n      <g>\n       <use style=\"stroke:#000000;stroke-width:0.8;\" x=\"113.798835\" xlink:href=\"#m8532be3c4f\" y=\"224.64\"/>\n      </g>\n     </g>\n     <g id=\"text_2\">\n      <!-- 10 -->\n      <g transform=\"translate(107.436335 239.238438)scale(0.1 -0.1)\">\n       <defs>\n        <path d=\"M 12.40625 8.296875 \nL 28.515625 8.296875 \nL 28.515625 63.921875 \nL 10.984375 60.40625 \nL 10.984375 69.390625 \nL 28.421875 72.90625 \nL 38.28125 72.90625 \nL 38.28125 8.296875 \nL 54.390625 8.296875 \nL 54.390625 0 \nL 12.40625 0 \nz\n\" id=\"DejaVuSans-49\"/>\n       </defs>\n       <use xlink:href=\"#DejaVuSans-49\"/>\n       <use x=\"63.623047\" xlink:href=\"#DejaVuSans-48\"/>\n      </g>\n     </g>\n    </g>\n    <g id=\"xtick_3\">\n     <g id=\"line2d_3\">\n      <g>\n       <use style=\"stroke:#000000;stroke-width:0.8;\" x=\"175.913862\" xlink:href=\"#m8532be3c4f\" y=\"224.64\"/>\n      </g>\n     </g>\n     <g id=\"text_3\">\n      <!-- 20 -->\n      <g transform=\"translate(169.551362 239.238438)scale(0.1 -0.1)\">\n       <defs>\n        <path d=\"M 19.1875 8.296875 \nL 53.609375 8.296875 \nL 53.609375 0 \nL 7.328125 0 \nL 7.328125 8.296875 \nQ 12.9375 14.109375 22.625 23.890625 \nQ 32.328125 33.6875 34.8125 36.53125 \nQ 39.546875 41.84375 41.421875 45.53125 \nQ 43.3125 49.21875 43.3125 52.78125 \nQ 43.3125 58.59375 39.234375 62.25 \nQ 35.15625 65.921875 28.609375 65.921875 \nQ 23.96875 65.921875 18.8125 64.3125 \nQ 13.671875 62.703125 7.8125 59.421875 \nL 7.8125 69.390625 \nQ 13.765625 71.78125 18.9375 73 \nQ 24.125 74.21875 28.421875 74.21875 \nQ 39.75 74.21875 46.484375 68.546875 \nQ 53.21875 62.890625 53.21875 53.421875 \nQ 53.21875 48.921875 51.53125 44.890625 \nQ 49.859375 40.875 45.40625 35.40625 \nQ 44.1875 33.984375 37.640625 27.21875 \nQ 31.109375 20.453125 19.1875 8.296875 \nz\n\" id=\"DejaVuSans-50\"/>\n       </defs>\n       <use xlink:href=\"#DejaVuSans-50\"/>\n       <use x=\"63.623047\" xlink:href=\"#DejaVuSans-48\"/>\n      </g>\n     </g>\n    </g>\n    <g id=\"xtick_4\">\n     <g id=\"line2d_4\">\n      <g>\n       <use style=\"stroke:#000000;stroke-width:0.8;\" x=\"238.02889\" xlink:href=\"#m8532be3c4f\" y=\"224.64\"/>\n      </g>\n     </g>\n     <g id=\"text_4\">\n      <!-- 30 -->\n      <g transform=\"translate(231.66639 239.238438)scale(0.1 -0.1)\">\n       <defs>\n        <path d=\"M 40.578125 39.3125 \nQ 47.65625 37.796875 51.625 33 \nQ 55.609375 28.21875 55.609375 21.1875 \nQ 55.609375 10.40625 48.1875 4.484375 \nQ 40.765625 -1.421875 27.09375 -1.421875 \nQ 22.515625 -1.421875 17.65625 -0.515625 \nQ 12.796875 0.390625 7.625 2.203125 \nL 7.625 11.71875 \nQ 11.71875 9.328125 16.59375 8.109375 \nQ 21.484375 6.890625 26.8125 6.890625 \nQ 36.078125 6.890625 40.9375 10.546875 \nQ 45.796875 14.203125 45.796875 21.1875 \nQ 45.796875 27.640625 41.28125 31.265625 \nQ 36.765625 34.90625 28.71875 34.90625 \nL 20.21875 34.90625 \nL 20.21875 43.015625 \nL 29.109375 43.015625 \nQ 36.375 43.015625 40.234375 45.921875 \nQ 44.09375 48.828125 44.09375 54.296875 \nQ 44.09375 59.90625 40.109375 62.90625 \nQ 36.140625 65.921875 28.71875 65.921875 \nQ 24.65625 65.921875 20.015625 65.03125 \nQ 15.375 64.15625 9.8125 62.3125 \nL 9.8125 71.09375 \nQ 15.4375 72.65625 20.34375 73.4375 \nQ 25.25 74.21875 29.59375 74.21875 \nQ 40.828125 74.21875 47.359375 69.109375 \nQ 53.90625 64.015625 53.90625 55.328125 \nQ 53.90625 49.265625 50.4375 45.09375 \nQ 46.96875 40.921875 40.578125 39.3125 \nz\n\" id=\"DejaVuSans-51\"/>\n       </defs>\n       <use xlink:href=\"#DejaVuSans-51\"/>\n       <use x=\"63.623047\" xlink:href=\"#DejaVuSans-48\"/>\n      </g>\n     </g>\n    </g>\n    <g id=\"xtick_5\">\n     <g id=\"line2d_5\">\n      <g>\n       <use style=\"stroke:#000000;stroke-width:0.8;\" x=\"300.143918\" xlink:href=\"#m8532be3c4f\" y=\"224.64\"/>\n      </g>\n     </g>\n     <g id=\"text_5\">\n      <!-- 40 -->\n      <g transform=\"translate(293.781418 239.238438)scale(0.1 -0.1)\">\n       <defs>\n        <path d=\"M 37.796875 64.3125 \nL 12.890625 25.390625 \nL 37.796875 25.390625 \nz\nM 35.203125 72.90625 \nL 47.609375 72.90625 \nL 47.609375 25.390625 \nL 58.015625 25.390625 \nL 58.015625 17.1875 \nL 47.609375 17.1875 \nL 47.609375 0 \nL 37.796875 0 \nL 37.796875 17.1875 \nL 4.890625 17.1875 \nL 4.890625 26.703125 \nz\n\" id=\"DejaVuSans-52\"/>\n       </defs>\n       <use xlink:href=\"#DejaVuSans-52\"/>\n       <use x=\"63.623047\" xlink:href=\"#DejaVuSans-48\"/>\n      </g>\n     </g>\n    </g>\n    <g id=\"xtick_6\">\n     <g id=\"line2d_6\">\n      <g>\n       <use style=\"stroke:#000000;stroke-width:0.8;\" x=\"362.258946\" xlink:href=\"#m8532be3c4f\" y=\"224.64\"/>\n      </g>\n     </g>\n     <g id=\"text_6\">\n      <!-- 50 -->\n      <g transform=\"translate(355.896446 239.238438)scale(0.1 -0.1)\">\n       <defs>\n        <path d=\"M 10.796875 72.90625 \nL 49.515625 72.90625 \nL 49.515625 64.59375 \nL 19.828125 64.59375 \nL 19.828125 46.734375 \nQ 21.96875 47.46875 24.109375 47.828125 \nQ 26.265625 48.1875 28.421875 48.1875 \nQ 40.625 48.1875 47.75 41.5 \nQ 54.890625 34.8125 54.890625 23.390625 \nQ 54.890625 11.625 47.5625 5.09375 \nQ 40.234375 -1.421875 26.90625 -1.421875 \nQ 22.3125 -1.421875 17.546875 -0.640625 \nQ 12.796875 0.140625 7.71875 1.703125 \nL 7.71875 11.625 \nQ 12.109375 9.234375 16.796875 8.0625 \nQ 21.484375 6.890625 26.703125 6.890625 \nQ 35.15625 6.890625 40.078125 11.328125 \nQ 45.015625 15.765625 45.015625 23.390625 \nQ 45.015625 31 40.078125 35.4375 \nQ 35.15625 39.890625 26.703125 39.890625 \nQ 22.75 39.890625 18.8125 39.015625 \nQ 14.890625 38.140625 10.796875 36.28125 \nz\n\" id=\"DejaVuSans-53\"/>\n       </defs>\n       <use xlink:href=\"#DejaVuSans-53\"/>\n       <use x=\"63.623047\" xlink:href=\"#DejaVuSans-48\"/>\n      </g>\n     </g>\n    </g>\n   </g>\n   <g id=\"matplotlib.axis_2\">\n    <g id=\"ytick_1\">\n     <g id=\"line2d_7\">\n      <defs>\n       <path d=\"M 0 0 \nL -3.5 0 \n\" id=\"m725684d1c8\" style=\"stroke:#000000;stroke-width:0.8;\"/>\n      </defs>\n      <g>\n       <use style=\"stroke:#000000;stroke-width:0.8;\" x=\"36.465625\" xlink:href=\"#m725684d1c8\" y=\"215.034066\"/>\n      </g>\n     </g>\n     <g id=\"text_7\">\n      <!-- 1.08 -->\n      <g transform=\"translate(7.2 218.833285)scale(0.1 -0.1)\">\n       <defs>\n        <path d=\"M 10.6875 12.40625 \nL 21 12.40625 \nL 21 0 \nL 10.6875 0 \nz\n\" id=\"DejaVuSans-46\"/>\n        <path d=\"M 31.78125 34.625 \nQ 24.75 34.625 20.71875 30.859375 \nQ 16.703125 27.09375 16.703125 20.515625 \nQ 16.703125 13.921875 20.71875 10.15625 \nQ 24.75 6.390625 31.78125 6.390625 \nQ 38.8125 6.390625 42.859375 10.171875 \nQ 46.921875 13.96875 46.921875 20.515625 \nQ 46.921875 27.09375 42.890625 30.859375 \nQ 38.875 34.625 31.78125 34.625 \nz\nM 21.921875 38.8125 \nQ 15.578125 40.375 12.03125 44.71875 \nQ 8.5 49.078125 8.5 55.328125 \nQ 8.5 64.0625 14.71875 69.140625 \nQ 20.953125 74.21875 31.78125 74.21875 \nQ 42.671875 74.21875 48.875 69.140625 \nQ 55.078125 64.0625 55.078125 55.328125 \nQ 55.078125 49.078125 51.53125 44.71875 \nQ 48 40.375 41.703125 38.8125 \nQ 48.828125 37.15625 52.796875 32.3125 \nQ 56.78125 27.484375 56.78125 20.515625 \nQ 56.78125 9.90625 50.3125 4.234375 \nQ 43.84375 -1.421875 31.78125 -1.421875 \nQ 19.734375 -1.421875 13.25 4.234375 \nQ 6.78125 9.90625 6.78125 20.515625 \nQ 6.78125 27.484375 10.78125 32.3125 \nQ 14.796875 37.15625 21.921875 38.8125 \nz\nM 18.3125 54.390625 \nQ 18.3125 48.734375 21.84375 45.5625 \nQ 25.390625 42.390625 31.78125 42.390625 \nQ 38.140625 42.390625 41.71875 45.5625 \nQ 45.3125 48.734375 45.3125 54.390625 \nQ 45.3125 60.0625 41.71875 63.234375 \nQ 38.140625 66.40625 31.78125 66.40625 \nQ 25.390625 66.40625 21.84375 63.234375 \nQ 18.3125 60.0625 18.3125 54.390625 \nz\n\" id=\"DejaVuSans-56\"/>\n       </defs>\n       <use xlink:href=\"#DejaVuSans-49\"/>\n       <use x=\"63.623047\" xlink:href=\"#DejaVuSans-46\"/>\n       <use x=\"95.410156\" xlink:href=\"#DejaVuSans-48\"/>\n       <use x=\"159.033203\" xlink:href=\"#DejaVuSans-56\"/>\n      </g>\n     </g>\n    </g>\n    <g id=\"ytick_2\">\n     <g id=\"line2d_8\">\n      <g>\n       <use style=\"stroke:#000000;stroke-width:0.8;\" x=\"36.465625\" xlink:href=\"#m725684d1c8\" y=\"184.127717\"/>\n      </g>\n     </g>\n     <g id=\"text_8\">\n      <!-- 1.10 -->\n      <g transform=\"translate(7.2 187.926936)scale(0.1 -0.1)\">\n       <use xlink:href=\"#DejaVuSans-49\"/>\n       <use x=\"63.623047\" xlink:href=\"#DejaVuSans-46\"/>\n       <use x=\"95.410156\" xlink:href=\"#DejaVuSans-49\"/>\n       <use x=\"159.033203\" xlink:href=\"#DejaVuSans-48\"/>\n      </g>\n     </g>\n    </g>\n    <g id=\"ytick_3\">\n     <g id=\"line2d_9\">\n      <g>\n       <use style=\"stroke:#000000;stroke-width:0.8;\" x=\"36.465625\" xlink:href=\"#m725684d1c8\" y=\"153.221368\"/>\n      </g>\n     </g>\n     <g id=\"text_9\">\n      <!-- 1.12 -->\n      <g transform=\"translate(7.2 157.020587)scale(0.1 -0.1)\">\n       <use xlink:href=\"#DejaVuSans-49\"/>\n       <use x=\"63.623047\" xlink:href=\"#DejaVuSans-46\"/>\n       <use x=\"95.410156\" xlink:href=\"#DejaVuSans-49\"/>\n       <use x=\"159.033203\" xlink:href=\"#DejaVuSans-50\"/>\n      </g>\n     </g>\n    </g>\n    <g id=\"ytick_4\">\n     <g id=\"line2d_10\">\n      <g>\n       <use style=\"stroke:#000000;stroke-width:0.8;\" x=\"36.465625\" xlink:href=\"#m725684d1c8\" y=\"122.315019\"/>\n      </g>\n     </g>\n     <g id=\"text_10\">\n      <!-- 1.14 -->\n      <g transform=\"translate(7.2 126.114238)scale(0.1 -0.1)\">\n       <use xlink:href=\"#DejaVuSans-49\"/>\n       <use x=\"63.623047\" xlink:href=\"#DejaVuSans-46\"/>\n       <use x=\"95.410156\" xlink:href=\"#DejaVuSans-49\"/>\n       <use x=\"159.033203\" xlink:href=\"#DejaVuSans-52\"/>\n      </g>\n     </g>\n    </g>\n    <g id=\"ytick_5\">\n     <g id=\"line2d_11\">\n      <g>\n       <use style=\"stroke:#000000;stroke-width:0.8;\" x=\"36.465625\" xlink:href=\"#m725684d1c8\" y=\"91.40867\"/>\n      </g>\n     </g>\n     <g id=\"text_11\">\n      <!-- 1.16 -->\n      <g transform=\"translate(7.2 95.207888)scale(0.1 -0.1)\">\n       <defs>\n        <path d=\"M 33.015625 40.375 \nQ 26.375 40.375 22.484375 35.828125 \nQ 18.609375 31.296875 18.609375 23.390625 \nQ 18.609375 15.53125 22.484375 10.953125 \nQ 26.375 6.390625 33.015625 6.390625 \nQ 39.65625 6.390625 43.53125 10.953125 \nQ 47.40625 15.53125 47.40625 23.390625 \nQ 47.40625 31.296875 43.53125 35.828125 \nQ 39.65625 40.375 33.015625 40.375 \nz\nM 52.59375 71.296875 \nL 52.59375 62.3125 \nQ 48.875 64.0625 45.09375 64.984375 \nQ 41.3125 65.921875 37.59375 65.921875 \nQ 27.828125 65.921875 22.671875 59.328125 \nQ 17.53125 52.734375 16.796875 39.40625 \nQ 19.671875 43.65625 24.015625 45.921875 \nQ 28.375 48.1875 33.59375 48.1875 \nQ 44.578125 48.1875 50.953125 41.515625 \nQ 57.328125 34.859375 57.328125 23.390625 \nQ 57.328125 12.15625 50.6875 5.359375 \nQ 44.046875 -1.421875 33.015625 -1.421875 \nQ 20.359375 -1.421875 13.671875 8.265625 \nQ 6.984375 17.96875 6.984375 36.375 \nQ 6.984375 53.65625 15.1875 63.9375 \nQ 23.390625 74.21875 37.203125 74.21875 \nQ 40.921875 74.21875 44.703125 73.484375 \nQ 48.484375 72.75 52.59375 71.296875 \nz\n\" id=\"DejaVuSans-54\"/>\n       </defs>\n       <use xlink:href=\"#DejaVuSans-49\"/>\n       <use x=\"63.623047\" xlink:href=\"#DejaVuSans-46\"/>\n       <use x=\"95.410156\" xlink:href=\"#DejaVuSans-49\"/>\n       <use x=\"159.033203\" xlink:href=\"#DejaVuSans-54\"/>\n      </g>\n     </g>\n    </g>\n    <g id=\"ytick_6\">\n     <g id=\"line2d_12\">\n      <g>\n       <use style=\"stroke:#000000;stroke-width:0.8;\" x=\"36.465625\" xlink:href=\"#m725684d1c8\" y=\"60.50232\"/>\n      </g>\n     </g>\n     <g id=\"text_12\">\n      <!-- 1.18 -->\n      <g transform=\"translate(7.2 64.301539)scale(0.1 -0.1)\">\n       <use xlink:href=\"#DejaVuSans-49\"/>\n       <use x=\"63.623047\" xlink:href=\"#DejaVuSans-46\"/>\n       <use x=\"95.410156\" xlink:href=\"#DejaVuSans-49\"/>\n       <use x=\"159.033203\" xlink:href=\"#DejaVuSans-56\"/>\n      </g>\n     </g>\n    </g>\n    <g id=\"ytick_7\">\n     <g id=\"line2d_13\">\n      <g>\n       <use style=\"stroke:#000000;stroke-width:0.8;\" x=\"36.465625\" xlink:href=\"#m725684d1c8\" y=\"29.595971\"/>\n      </g>\n     </g>\n     <g id=\"text_13\">\n      <!-- 1.20 -->\n      <g transform=\"translate(7.2 33.39519)scale(0.1 -0.1)\">\n       <use xlink:href=\"#DejaVuSans-49\"/>\n       <use x=\"63.623047\" xlink:href=\"#DejaVuSans-46\"/>\n       <use x=\"95.410156\" xlink:href=\"#DejaVuSans-50\"/>\n       <use x=\"159.033203\" xlink:href=\"#DejaVuSans-48\"/>\n      </g>\n     </g>\n    </g>\n   </g>\n   <g id=\"line2d_14\">\n    <path clip-path=\"url(#p5b7b249909)\" d=\"M 51.683807 17.083636 \nL 57.89531 28.46182 \nL 64.106812 110.192027 \nL 70.318315 163.014776 \nL 76.529818 188.13659 \nL 82.741321 200.160371 \nL 88.952824 206.520894 \nL 95.164326 209.989621 \nL 101.375829 211.905362 \nL 107.587332 213.006479 \nL 113.798835 213.66207 \nL 120.010337 214.059049 \nL 126.22184 214.303557 \nL 132.433343 214.457732 \nL 138.644846 214.557 \nL 144.856349 214.621859 \nL 151.067851 214.664762 \nL 157.279354 214.69349 \nL 163.490857 214.712932 \nL 169.70236 214.726205 \nL 175.913862 214.73533 \nL 182.125365 214.74164 \nL 188.336868 214.746026 \nL 194.548371 214.749088 \nL 200.759874 214.751232 \nL 206.971376 214.752737 \nL 213.182879 214.753797 \nL 219.394382 214.754545 \nL 225.605885 214.755074 \nL 231.817388 214.755448 \nL 238.02889 214.755713 \nL 244.240393 214.755901 \nL 250.451896 214.756035 \nL 256.663399 214.756129 \nL 262.874901 214.756197 \nL 269.086404 214.756245 \nL 275.297907 214.756279 \nL 281.50941 214.756304 \nL 287.720913 214.756321 \nL 293.932415 214.756334 \nL 300.143918 214.756342 \nL 306.355421 214.756349 \nL 312.566924 214.756353 \nL 318.778426 214.756357 \nL 324.989929 214.756359 \nL 331.201432 214.756361 \nL 337.412935 214.756362 \nL 343.624438 214.756363 \nL 349.83594 214.756363 \nL 356.047443 214.756364 \n\" style=\"fill:none;stroke:#1f77b4;stroke-linecap:square;stroke-width:1.5;\"/>\n   </g>\n   <g id=\"patch_3\">\n    <path d=\"M 36.465625 224.64 \nL 36.465625 7.2 \n\" style=\"fill:none;stroke:#000000;stroke-linecap:square;stroke-linejoin:miter;stroke-width:0.8;\"/>\n   </g>\n   <g id=\"patch_4\">\n    <path d=\"M 371.265625 224.64 \nL 371.265625 7.2 \n\" style=\"fill:none;stroke:#000000;stroke-linecap:square;stroke-linejoin:miter;stroke-width:0.8;\"/>\n   </g>\n   <g id=\"patch_5\">\n    <path d=\"M 36.465625 224.64 \nL 371.265625 224.64 \n\" style=\"fill:none;stroke:#000000;stroke-linecap:square;stroke-linejoin:miter;stroke-width:0.8;\"/>\n   </g>\n   <g id=\"patch_6\">\n    <path d=\"M 36.465625 7.2 \nL 371.265625 7.2 \n\" style=\"fill:none;stroke:#000000;stroke-linecap:square;stroke-linejoin:miter;stroke-width:0.8;\"/>\n   </g>\n  </g>\n </g>\n <defs>\n  <clipPath id=\"p5b7b249909\">\n   <rect height=\"217.44\" width=\"334.8\" x=\"36.465625\" y=\"7.2\"/>\n  </clipPath>\n </defs>\n</svg>\n",
      "image/png": "[encoded data removed]"
     },
     "metadata": {
      "needs_background": "light"
     }
    }
   ],
   "source": [
    "plt.plot(losses)"
   ]
  },
  {
   "cell_type": "code",
   "execution_count": 181,
   "metadata": {},
   "outputs": [],
   "source": [
    "# Calculates accuracy of test data\n",
    "def accuracy(y, y_pred):\n",
    "\n",
    "    total_correct = 0\n",
    "    confusion_matrix = np.zeros(shape=(CLASS_NUMBER, CLASS_NUMBER))\n",
    "\n",
    "    numData = y.shape[1]\n",
    "    \n",
    "    # Iterating through all of data\n",
    "    for data in range(numData):\n",
    "        # Returns array for index of max probabilities for each data point \n",
    "        y_indexes = np.argmax(y, axis=0)\n",
    "        y_pred_indexes = np.argmax(y_pred, axis=0)\n",
    "        \n",
    "        confusion_matrix[y_indexes[data]][y_pred_indexes[data]] += 1\n",
    "        total_correct = np.sum(y_indexes == y_pred_indexes)\n",
    "        \n",
    "    total_accuracy = total_correct/numData\n",
    "    return confusion_matrix, total_accuracy \n"
   ]
  },
  {
   "cell_type": "code",
   "execution_count": 182,
   "metadata": {},
   "outputs": [
    {
     "output_type": "stream",
     "name": "stdout",
     "text": [
      "[[4. 3. 1.]\n [7. 2. 0.]\n [3. 9. 1.]]\n0.23333333333333334\n"
     ]
    }
   ],
   "source": [
    "# Accuracy and confusion matrix check\n",
    "z = class_corr(w, b, x_test)\n",
    "y_pred = softmax(z)\n",
    "\n",
    "confusion_matrix, model_acc = accuracy(y_test, y_pred)\n",
    "\n",
    "print(confusion_matrix)\n",
    "print(model_acc)\n"
   ]
  },
  {
   "cell_type": "code",
   "execution_count": 16,
   "metadata": {},
   "outputs": [
    {
     "output_type": "stream",
     "name": "stdout",
     "text": [
      "\n"
     ]
    },
    {
     "output_type": "error",
     "ename": "NameError",
     "evalue": "name 'pred_pos' is not defined",
     "traceback": [
      "\u001b[1;31m---------------------------------------------------------------------------\u001b[0m",
      "\u001b[1;31mNameError\u001b[0m                                 Traceback (most recent call last)",
      "\u001b[1;32m<ipython-input-16-d2ccb719e7dc>\u001b[0m in \u001b[0;36m<module>\u001b[1;34m\u001b[0m\n\u001b[0;32m      2\u001b[0m \u001b[0mprint\u001b[0m\u001b[1;33m(\u001b[0m\u001b[1;33m)\u001b[0m\u001b[1;33m\u001b[0m\u001b[1;33m\u001b[0m\u001b[0m\n\u001b[0;32m      3\u001b[0m \u001b[1;33m\u001b[0m\u001b[0m\n\u001b[1;32m----> 4\u001b[1;33m \u001b[0mprint\u001b[0m\u001b[1;33m(\u001b[0m\u001b[0mpred_pos\u001b[0m\u001b[1;33m)\u001b[0m\u001b[1;33m\u001b[0m\u001b[1;33m\u001b[0m\u001b[0m\n\u001b[0m\u001b[0;32m      5\u001b[0m \u001b[0mprint\u001b[0m\u001b[1;33m(\u001b[0m\u001b[0mpred_neg\u001b[0m\u001b[1;33m)\u001b[0m\u001b[1;33m\u001b[0m\u001b[1;33m\u001b[0m\u001b[0m\n\u001b[0;32m      6\u001b[0m \u001b[1;33m\u001b[0m\u001b[0m\n",
      "\u001b[1;31mNameError\u001b[0m: name 'pred_pos' is not defined"
     ]
    }
   ],
   "source": []
  }
 ]
}