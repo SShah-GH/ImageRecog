{
 "metadata": {
  "language_info": {
   "codemirror_mode": {
    "name": "ipython",
    "version": 3
   },
   "file_extension": ".py",
   "mimetype": "text/x-python",
   "name": "python",
   "nbconvert_exporter": "python",
   "pygments_lexer": "ipython3",
   "version": "3.7.6-final"
  },
  "orig_nbformat": 2,
  "kernelspec": {
   "name": "python3",
   "display_name": "Python 3",
   "language": "python"
  }
 },
 "nbformat": 4,
 "nbformat_minor": 2,
 "cells": [
  {
   "cell_type": "code",
   "execution_count": 33,
   "metadata": {},
   "outputs": [],
   "source": [
    "#IMPORTS#\n",
    "\n",
    "\n",
    "#packages\n",
    "import numpy as np\n",
    "import scipy\n",
    "import sklearn\n",
    "import matplotlib.pyplot as plt\n",
    "import pandas as pd\n",
    "\n",
    "#pytorch\n",
    "import torch\n",
    "import torchvision\n",
    "import torch.utils\n",
    "\n",
    "import torch.nn as nn\n",
    "import torch.nn.functional as F\n",
    "import torchvision.models as models\n",
    "import torchvision.transforms as transforms"
   ]
  },
  {
   "cell_type": "code",
   "execution_count": 34,
   "metadata": {},
   "outputs": [],
   "source": [
    "#GLOBALS#\n",
    "\n",
    "\n",
    "DIMENSION_SIZE_1 = 28\n",
    "DIMENSION_SIZE_2 = 28\n",
    "DIMENSION_SIZE_3 = 1\n",
    "\n",
    "INPUT_DIMENSIONS = DIMENSION_SIZE_1 * DIMENSION_SIZE_2 * DIMENSION_SIZE_3\n",
    "OUTPUT_DIMENSIONS = 10\n",
    "\n",
    "HIDDEN_LAYERS = [196,49]\n"
   ]
  },
  {
   "cell_type": "code",
   "execution_count": 35,
   "metadata": {},
   "outputs": [],
   "source": [
    "#GRAB DATA#\n",
    "\n",
    "\n",
    "#general transform operations:\n",
    "    # 1: creates tensor\n",
    "    # 2: Normalizes data by computing (X_i - X_mean) / std deviation\n",
    "transform = transforms.Compose(\n",
    "    [transforms.ToTensor(),\n",
    "    transforms.Normalize((0.5,), (0.5,)),])\n",
    "\n",
    "\n",
    "#creating and loading datasets\n",
    "#no need to train test(validation) set\n",
    "#apply transforms\n",
    "trainset = torchvision.datasets.MNIST('..\\DataSets', download=True, train=True, transform=transform)\n",
    "testset = torchvision.datasets.MNIST('..\\DataSets', download=True, train=False, transform=transform)\n",
    "\n",
    "#create dataloader objects for each set\n",
    "trainloader = torch.utils.data.DataLoader(trainset, batch_size=64, shuffle=True)\n",
    "testloader = torch.utils.data.DataLoader(testset, batch_size=64, shuffle=True)\n",
    "\n",
    "\n"
   ]
  },
  {
   "cell_type": "code",
   "execution_count": 36,
   "metadata": {},
   "outputs": [],
   "source": [
    "#DWFINE MODEL#\n",
    "\n",
    "\n",
    "model = nn.Sequential(nn.Linear(INPUT_DIMENSIONS, HIDDEN_LAYERS[0]), nn.ReLU(),\n",
    "                        nn.Linear(HIDDEN_LAYERS[0], HIDDEN_LAYERS[1]), nn.ReLU(),\n",
    "                        nn.Linear(HIDDEN_LAYERS[1], OUTPUT_DIMENSIONS), nn.LogSoftmax()\n",
    "                      )\n"
   ]
  },
  {
   "cell_type": "code",
   "execution_count": null,
   "metadata": {},
   "outputs": [],
   "source": []
  }
 ]
}